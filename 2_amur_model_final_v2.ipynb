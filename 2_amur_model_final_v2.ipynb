{
 "cells": [
  {
   "cell_type": "markdown",
   "metadata": {
    "toc": true
   },
   "source": [
    "<h1>Table of Contents<span class=\"tocSkip\"></span></h1>\n",
    "<div class=\"toc\"><ul class=\"toc-item\"><li><span><a href=\"#Проба-классификации\" data-toc-modified-id=\"Проба-классификации-1\"><span class=\"toc-item-num\">1&nbsp;&nbsp;</span>Проба классификации</a></span></li><li><span><a href=\"#Проба-регрессии!\" data-toc-modified-id=\"Проба-регрессии!-2\"><span class=\"toc-item-num\">2&nbsp;&nbsp;</span>Проба регрессии!</a></span><ul class=\"toc-item\"><li><span><a href=\"#Проверка,-что-дает-на-доске-наша-проба-пера\" data-toc-modified-id=\"Проверка,-что-дает-на-доске-наша-проба-пера-2.1\"><span class=\"toc-item-num\">2.1&nbsp;&nbsp;</span>Проверка, что дает на доске наша проба пера</a></span></li></ul></li><li><span><a href=\"#2-этап,-подбор\" data-toc-modified-id=\"2-этап,-подбор-3\"><span class=\"toc-item-num\">3&nbsp;&nbsp;</span>2 этап, подбор</a></span><ul class=\"toc-item\"><li><span><a href=\"#Регрессия\" data-toc-modified-id=\"Регрессия-3.1\"><span class=\"toc-item-num\">3.1&nbsp;&nbsp;</span>Регрессия</a></span></li><li><span><a href=\"#Подбор-классификации\" data-toc-modified-id=\"Подбор-классификации-3.2\"><span class=\"toc-item-num\">3.2&nbsp;&nbsp;</span>Подбор классификации</a></span></li></ul></li><li><span><a href=\"#ФИНАЛЬНОЕ-ПРЕДСКАЗАНИЕ\" data-toc-modified-id=\"ФИНАЛЬНОЕ-ПРЕДСКАЗАНИЕ-4\"><span class=\"toc-item-num\">4&nbsp;&nbsp;</span>ФИНАЛЬНОЕ ПРЕДСКАЗАНИЕ</a></span></li></ul></div>"
   ]
  },
  {
   "cell_type": "markdown",
   "metadata": {},
   "source": [
    "Это версия того же ноутбука с почищенным выводом некоторых ячеек, из которых не рендерилось представление на гитхабе!!!!"
   ]
  },
  {
   "cell_type": "code",
   "execution_count": 1,
   "metadata": {
    "colab": {
     "base_uri": "https://localhost:8080/"
    },
    "executionInfo": {
     "elapsed": 21417,
     "status": "ok",
     "timestamp": 1669307769339,
     "user": {
      "displayName": "Andrew Lazko",
      "userId": "04969080350981822544"
     },
     "user_tz": -180
    },
    "id": "l-HZbAAgcssN",
    "outputId": "7529755d-4b1b-45b6-f368-c3ced063cb50"
   },
   "outputs": [
    {
     "name": "stdout",
     "output_type": "stream",
     "text": [
      "Mounted at /content/drive\n"
     ]
    }
   ],
   "source": [
    "from google.colab import drive\n",
    "drive.mount('/content/drive')"
   ]
  },
  {
   "cell_type": "code",
   "execution_count": null,
   "metadata": {
    "colab": {
     "base_uri": "https://localhost:8080/"
    },
    "executionInfo": {
     "elapsed": 23560,
     "status": "ok",
     "timestamp": 1669307807042,
     "user": {
      "displayName": "Andrew Lazko",
      "userId": "04969080350981822544"
     },
     "user_tz": -180
    },
    "id": "q8ExWFEKc6y2",
    "outputId": "6aaa1af2-29f1-4e85-fc0f-0b320fba60df"
   },
   "outputs": [],
   "source": [
    "! pip install catboost\n",
    "! pip install optuna"
   ]
  },
  {
   "cell_type": "code",
   "execution_count": 4,
   "metadata": {
    "executionInfo": {
     "elapsed": 1631,
     "status": "ok",
     "timestamp": 1669307808663,
     "user": {
      "displayName": "Andrew Lazko",
      "userId": "04969080350981822544"
     },
     "user_tz": -180
    },
    "id": "-aNWKaC6dFAc"
   },
   "outputs": [],
   "source": [
    "import gc\n",
    "import matplotlib.pyplot as plt\n",
    "import numpy as np\n",
    "import optuna\n",
    "import os\n",
    "import pandas as pd\n",
    "#import re\n",
    "import seaborn as sns\n",
    "import warnings\n",
    "\n",
    "from catboost import CatBoostClassifier, CatBoostRegressor, Pool\n",
    "from sklearn.metrics import make_scorer, recall_score, r2_score\n",
    "from sklearn.model_selection import train_test_split, StratifiedKFold, cross_val_score\n",
    "from sklearn.model_selection import  KFold, RepeatedStratifiedKFold\n",
    "from sklearn.pipeline import Pipeline\n",
    "from sklearn.utils.class_weight import compute_class_weight\n",
    "#from sklearn.preprocessing import OrdinalEncoder\n",
    "\n",
    "\n",
    "warnings.simplefilter(action='ignore')"
   ]
  },
  {
   "cell_type": "code",
   "execution_count": 5,
   "metadata": {
    "executionInfo": {
     "elapsed": 16,
     "status": "ok",
     "timestamp": 1669215864587,
     "user": {
      "displayName": "Andrew Lazko",
      "userId": "04969080350981822544"
     },
     "user_tz": -180
    },
    "id": "bOjsGvfsdE6W"
   },
   "outputs": [],
   "source": [
    "types_full = {\n",
    " 'ticket_id': 'category',\n",
    " 'ticket_type_nm': 'category',\n",
    " 'station_id': 'category',\n",
    " 'time_to_under': 'float64',\n",
    " 'label': 'int64',\n",
    " 'passenger_category': 'category',\n",
    " 'day_valid': 'category',\n",
    " 'time_valid': 'int64',\n",
    " 'count_of_trips': 'int64',\n",
    " 'mean_time_valid': 'float64',\n",
    " 'std_day_valid': 'float64',\n",
    " 'std_time_valid': 'float64',\n",
    " 'var_day_valid': 'float64',\n",
    " 'var_time_valid': 'float64',\n",
    " 'n_station_id': 'int64'}"
   ]
  },
  {
   "cell_type": "code",
   "execution_count": 6,
   "metadata": {
    "executionInfo": {
     "elapsed": 14,
     "status": "ok",
     "timestamp": 1669215864588,
     "user": {
      "displayName": "Andrew Lazko",
      "userId": "04969080350981822544"
     },
     "user_tz": -180
    },
    "id": "TpQRbsPtdEpZ"
   },
   "outputs": [],
   "source": [
    "#show all columns and rows in pamdas:\n",
    "\n",
    "pd.set_option('display.max_columns', None)\n",
    "pd.set_option('display.max_rows', None)"
   ]
  },
  {
   "cell_type": "code",
   "execution_count": 7,
   "metadata": {
    "executionInfo": {
     "elapsed": 9262,
     "status": "ok",
     "timestamp": 1669215873837,
     "user": {
      "displayName": "Andrew Lazko",
      "userId": "04969080350981822544"
     },
     "user_tz": -180
    },
    "id": "GRwXXd3Kir9B"
   },
   "outputs": [],
   "source": [
    "# Считаем наши данные\n",
    "pth1 = '/content/drive/MyDrive/amur/X_full.csv' # серверный путь\n",
    "pth2 = 'X_full.csv' # Локальный путь\n",
    "\n",
    "if os.path.exists(pth1):\n",
    "    df = pd.read_csv(pth1, dtype=types_full, index_col='id')\n",
    "elif os.path.exists(pth2):\n",
    "    df = pd.read_csv(pth2, dtype=types_full, index_col='id')\n",
    "else:\n",
    "    print('Something is wrong')  "
   ]
  },
  {
   "cell_type": "code",
   "execution_count": 8,
   "metadata": {
    "executionInfo": {
     "elapsed": 19,
     "status": "ok",
     "timestamp": 1669215873840,
     "user": {
      "displayName": "Andrew Lazko",
      "userId": "04969080350981822544"
     },
     "user_tz": -180
    },
    "id": "Tw86V1Sx_bRN"
   },
   "outputs": [],
   "source": [
    "X_full = df.copy()"
   ]
  },
  {
   "cell_type": "code",
   "execution_count": 9,
   "metadata": {
    "colab": {
     "base_uri": "https://localhost:8080/",
     "height": 302
    },
    "executionInfo": {
     "elapsed": 18,
     "status": "ok",
     "timestamp": 1669215873841,
     "user": {
      "displayName": "Andrew Lazko",
      "userId": "04969080350981822544"
     },
     "user_tz": -180
    },
    "id": "l65Ec58z10bS",
    "outputId": "66b11570-7e91-4ae4-d2ff-e44c73f87336"
   },
   "outputs": [
    {
     "data": {
      "text/html": [
       "\n",
       "  <div id=\"df-f6b55620-23b5-4d25-852a-b479e908871c\">\n",
       "    <div class=\"colab-df-container\">\n",
       "      <div>\n",
       "<style scoped>\n",
       "    .dataframe tbody tr th:only-of-type {\n",
       "        vertical-align: middle;\n",
       "    }\n",
       "\n",
       "    .dataframe tbody tr th {\n",
       "        vertical-align: top;\n",
       "    }\n",
       "\n",
       "    .dataframe thead th {\n",
       "        text-align: right;\n",
       "    }\n",
       "</style>\n",
       "<table border=\"1\" class=\"dataframe\">\n",
       "  <thead>\n",
       "    <tr style=\"text-align: right;\">\n",
       "      <th></th>\n",
       "      <th>ticket_id</th>\n",
       "      <th>ticket_type_nm</th>\n",
       "      <th>station_id</th>\n",
       "      <th>time_to_under</th>\n",
       "      <th>label</th>\n",
       "      <th>passenger_category</th>\n",
       "      <th>day_valid</th>\n",
       "      <th>time_valid</th>\n",
       "      <th>count_of_trips</th>\n",
       "      <th>mean_time_valid</th>\n",
       "      <th>std_day_valid</th>\n",
       "      <th>std_time_valid</th>\n",
       "      <th>var_day_valid</th>\n",
       "      <th>var_time_valid</th>\n",
       "      <th>n_station_id</th>\n",
       "    </tr>\n",
       "    <tr>\n",
       "      <th>id</th>\n",
       "      <th></th>\n",
       "      <th></th>\n",
       "      <th></th>\n",
       "      <th></th>\n",
       "      <th></th>\n",
       "      <th></th>\n",
       "      <th></th>\n",
       "      <th></th>\n",
       "      <th></th>\n",
       "      <th></th>\n",
       "      <th></th>\n",
       "      <th></th>\n",
       "      <th></th>\n",
       "      <th></th>\n",
       "      <th></th>\n",
       "    </tr>\n",
       "  </thead>\n",
       "  <tbody>\n",
       "    <tr>\n",
       "      <th>1</th>\n",
       "      <td>40BD89EC85646EFB69E283F39C298E60</td>\n",
       "      <td>facepay</td>\n",
       "      <td>11007</td>\n",
       "      <td>216.316667</td>\n",
       "      <td>8001</td>\n",
       "      <td>simple</td>\n",
       "      <td>0</td>\n",
       "      <td>18013</td>\n",
       "      <td>1</td>\n",
       "      <td>18013.000000</td>\n",
       "      <td>-1.000000</td>\n",
       "      <td>-1.000000</td>\n",
       "      <td>-1.000000</td>\n",
       "      <td>-1.000000e+00</td>\n",
       "      <td>1</td>\n",
       "    </tr>\n",
       "    <tr>\n",
       "      <th>2</th>\n",
       "      <td>126727A96489CC976A8C08E5CEB00542</td>\n",
       "      <td>school_30</td>\n",
       "      <td>2006</td>\n",
       "      <td>648.183333</td>\n",
       "      <td>9011</td>\n",
       "      <td>schoolars</td>\n",
       "      <td>0</td>\n",
       "      <td>18054</td>\n",
       "      <td>5</td>\n",
       "      <td>36682.600000</td>\n",
       "      <td>2.549510</td>\n",
       "      <td>15008.832943</td>\n",
       "      <td>6.500000</td>\n",
       "      <td>2.252651e+08</td>\n",
       "      <td>1</td>\n",
       "    </tr>\n",
       "    <tr>\n",
       "      <th>3</th>\n",
       "      <td>D28CE6A9E0E5B6D213470A97CFF32485</td>\n",
       "      <td>druzhina</td>\n",
       "      <td>2006</td>\n",
       "      <td>865.333333</td>\n",
       "      <td>7022</td>\n",
       "      <td>other</td>\n",
       "      <td>0</td>\n",
       "      <td>18055</td>\n",
       "      <td>5</td>\n",
       "      <td>36198.800000</td>\n",
       "      <td>2.236068</td>\n",
       "      <td>13871.974668</td>\n",
       "      <td>5.000000</td>\n",
       "      <td>1.924317e+08</td>\n",
       "      <td>1</td>\n",
       "    </tr>\n",
       "    <tr>\n",
       "      <th>4</th>\n",
       "      <td>015DA44B523C062B5BFEFF3FB0E64B9E</td>\n",
       "      <td>simple_30</td>\n",
       "      <td>2006</td>\n",
       "      <td>1048.233333</td>\n",
       "      <td>2022</td>\n",
       "      <td>simple</td>\n",
       "      <td>0</td>\n",
       "      <td>18073</td>\n",
       "      <td>6</td>\n",
       "      <td>38681.333333</td>\n",
       "      <td>2.316607</td>\n",
       "      <td>10313.346667</td>\n",
       "      <td>5.366667</td>\n",
       "      <td>1.063651e+08</td>\n",
       "      <td>2</td>\n",
       "    </tr>\n",
       "    <tr>\n",
       "      <th>5</th>\n",
       "      <td>95B19C6F3A504727AC3EA56EB7E3E80F</td>\n",
       "      <td>wallet</td>\n",
       "      <td>2006</td>\n",
       "      <td>965.600000</td>\n",
       "      <td>2017</td>\n",
       "      <td>simple</td>\n",
       "      <td>0</td>\n",
       "      <td>18175</td>\n",
       "      <td>4</td>\n",
       "      <td>36340.000000</td>\n",
       "      <td>2.629956</td>\n",
       "      <td>13741.081423</td>\n",
       "      <td>6.916667</td>\n",
       "      <td>1.888173e+08</td>\n",
       "      <td>1</td>\n",
       "    </tr>\n",
       "  </tbody>\n",
       "</table>\n",
       "</div>\n",
       "      <button class=\"colab-df-convert\" onclick=\"convertToInteractive('df-f6b55620-23b5-4d25-852a-b479e908871c')\"\n",
       "              title=\"Convert this dataframe to an interactive table.\"\n",
       "              style=\"display:none;\">\n",
       "        \n",
       "  <svg xmlns=\"http://www.w3.org/2000/svg\" height=\"24px\"viewBox=\"0 0 24 24\"\n",
       "       width=\"24px\">\n",
       "    <path d=\"M0 0h24v24H0V0z\" fill=\"none\"/>\n",
       "    <path d=\"M18.56 5.44l.94 2.06.94-2.06 2.06-.94-2.06-.94-.94-2.06-.94 2.06-2.06.94zm-11 1L8.5 8.5l.94-2.06 2.06-.94-2.06-.94L8.5 2.5l-.94 2.06-2.06.94zm10 10l.94 2.06.94-2.06 2.06-.94-2.06-.94-.94-2.06-.94 2.06-2.06.94z\"/><path d=\"M17.41 7.96l-1.37-1.37c-.4-.4-.92-.59-1.43-.59-.52 0-1.04.2-1.43.59L10.3 9.45l-7.72 7.72c-.78.78-.78 2.05 0 2.83L4 21.41c.39.39.9.59 1.41.59.51 0 1.02-.2 1.41-.59l7.78-7.78 2.81-2.81c.8-.78.8-2.07 0-2.86zM5.41 20L4 18.59l7.72-7.72 1.47 1.35L5.41 20z\"/>\n",
       "  </svg>\n",
       "      </button>\n",
       "      \n",
       "  <style>\n",
       "    .colab-df-container {\n",
       "      display:flex;\n",
       "      flex-wrap:wrap;\n",
       "      gap: 12px;\n",
       "    }\n",
       "\n",
       "    .colab-df-convert {\n",
       "      background-color: #E8F0FE;\n",
       "      border: none;\n",
       "      border-radius: 50%;\n",
       "      cursor: pointer;\n",
       "      display: none;\n",
       "      fill: #1967D2;\n",
       "      height: 32px;\n",
       "      padding: 0 0 0 0;\n",
       "      width: 32px;\n",
       "    }\n",
       "\n",
       "    .colab-df-convert:hover {\n",
       "      background-color: #E2EBFA;\n",
       "      box-shadow: 0px 1px 2px rgba(60, 64, 67, 0.3), 0px 1px 3px 1px rgba(60, 64, 67, 0.15);\n",
       "      fill: #174EA6;\n",
       "    }\n",
       "\n",
       "    [theme=dark] .colab-df-convert {\n",
       "      background-color: #3B4455;\n",
       "      fill: #D2E3FC;\n",
       "    }\n",
       "\n",
       "    [theme=dark] .colab-df-convert:hover {\n",
       "      background-color: #434B5C;\n",
       "      box-shadow: 0px 1px 3px 1px rgba(0, 0, 0, 0.15);\n",
       "      filter: drop-shadow(0px 1px 2px rgba(0, 0, 0, 0.3));\n",
       "      fill: #FFFFFF;\n",
       "    }\n",
       "  </style>\n",
       "\n",
       "      <script>\n",
       "        const buttonEl =\n",
       "          document.querySelector('#df-f6b55620-23b5-4d25-852a-b479e908871c button.colab-df-convert');\n",
       "        buttonEl.style.display =\n",
       "          google.colab.kernel.accessAllowed ? 'block' : 'none';\n",
       "\n",
       "        async function convertToInteractive(key) {\n",
       "          const element = document.querySelector('#df-f6b55620-23b5-4d25-852a-b479e908871c');\n",
       "          const dataTable =\n",
       "            await google.colab.kernel.invokeFunction('convertToInteractive',\n",
       "                                                     [key], {});\n",
       "          if (!dataTable) return;\n",
       "\n",
       "          const docLinkHtml = 'Like what you see? Visit the ' +\n",
       "            '<a target=\"_blank\" href=https://colab.research.google.com/notebooks/data_table.ipynb>data table notebook</a>'\n",
       "            + ' to learn more about interactive tables.';\n",
       "          element.innerHTML = '';\n",
       "          dataTable['output_type'] = 'display_data';\n",
       "          await google.colab.output.renderOutput(dataTable, element);\n",
       "          const docLink = document.createElement('div');\n",
       "          docLink.innerHTML = docLinkHtml;\n",
       "          element.appendChild(docLink);\n",
       "        }\n",
       "      </script>\n",
       "    </div>\n",
       "  </div>\n",
       "  "
      ],
      "text/plain": [
       "                           ticket_id ticket_type_nm station_id  time_to_under  \\\n",
       "id                                                                              \n",
       "1   40BD89EC85646EFB69E283F39C298E60        facepay      11007     216.316667   \n",
       "2   126727A96489CC976A8C08E5CEB00542      school_30       2006     648.183333   \n",
       "3   D28CE6A9E0E5B6D213470A97CFF32485       druzhina       2006     865.333333   \n",
       "4   015DA44B523C062B5BFEFF3FB0E64B9E      simple_30       2006    1048.233333   \n",
       "5   95B19C6F3A504727AC3EA56EB7E3E80F         wallet       2006     965.600000   \n",
       "\n",
       "    label passenger_category day_valid  time_valid  count_of_trips  \\\n",
       "id                                                                   \n",
       "1    8001             simple         0       18013               1   \n",
       "2    9011          schoolars         0       18054               5   \n",
       "3    7022              other         0       18055               5   \n",
       "4    2022             simple         0       18073               6   \n",
       "5    2017             simple         0       18175               4   \n",
       "\n",
       "    mean_time_valid  std_day_valid  std_time_valid  var_day_valid  \\\n",
       "id                                                                  \n",
       "1      18013.000000      -1.000000       -1.000000      -1.000000   \n",
       "2      36682.600000       2.549510    15008.832943       6.500000   \n",
       "3      36198.800000       2.236068    13871.974668       5.000000   \n",
       "4      38681.333333       2.316607    10313.346667       5.366667   \n",
       "5      36340.000000       2.629956    13741.081423       6.916667   \n",
       "\n",
       "    var_time_valid  n_station_id  \n",
       "id                                \n",
       "1    -1.000000e+00             1  \n",
       "2     2.252651e+08             1  \n",
       "3     1.924317e+08             1  \n",
       "4     1.063651e+08             2  \n",
       "5     1.888173e+08             1  "
      ]
     },
     "execution_count": 9,
     "metadata": {},
     "output_type": "execute_result"
    }
   ],
   "source": [
    "X_full.head()"
   ]
  },
  {
   "cell_type": "code",
   "execution_count": 10,
   "metadata": {
    "colab": {
     "base_uri": "https://localhost:8080/"
    },
    "executionInfo": {
     "elapsed": 2445,
     "status": "ok",
     "timestamp": 1669215876274,
     "user": {
      "displayName": "Andrew Lazko",
      "userId": "04969080350981822544"
     },
     "user_tz": -180
    },
    "id": "OoIC5vOP5ipp",
    "outputId": "bbb192d3-aedf-433c-de74-8c098b96c196"
   },
   "outputs": [
    {
     "data": {
      "text/plain": [
       "0"
      ]
     },
     "execution_count": 10,
     "metadata": {},
     "output_type": "execute_result"
    }
   ],
   "source": [
    "X_full.duplicated().sum()"
   ]
  },
  {
   "cell_type": "code",
   "execution_count": 11,
   "metadata": {
    "colab": {
     "base_uri": "https://localhost:8080/"
    },
    "executionInfo": {
     "elapsed": 828,
     "status": "ok",
     "timestamp": 1669215877096,
     "user": {
      "displayName": "Andrew Lazko",
      "userId": "04969080350981822544"
     },
     "user_tz": -180
    },
    "id": "50FS5uN7kJUe",
    "outputId": "c255882f-efc7-45ab-c1cd-098442f81cfe"
   },
   "outputs": [
    {
     "name": "stdout",
     "output_type": "stream",
     "text": [
      "<class 'pandas.core.frame.DataFrame'>\n",
      "Int64Index: 1091021 entries, 1 to 1091021\n",
      "Data columns (total 15 columns):\n",
      " #   Column              Non-Null Count    Dtype   \n",
      "---  ------              --------------    -----   \n",
      " 0   ticket_id           1091021 non-null  category\n",
      " 1   ticket_type_nm      1091021 non-null  category\n",
      " 2   station_id          1091021 non-null  category\n",
      " 3   time_to_under       1091021 non-null  float64 \n",
      " 4   label               1091021 non-null  int64   \n",
      " 5   passenger_category  1091021 non-null  category\n",
      " 6   day_valid           1091021 non-null  category\n",
      " 7   time_valid          1091021 non-null  int64   \n",
      " 8   count_of_trips      1091021 non-null  int64   \n",
      " 9   mean_time_valid     1091021 non-null  float64 \n",
      " 10  std_day_valid       1091021 non-null  float64 \n",
      " 11  std_time_valid      1091021 non-null  float64 \n",
      " 12  var_day_valid       1091021 non-null  float64 \n",
      " 13  var_time_valid      1091021 non-null  float64 \n",
      " 14  n_station_id        1091021 non-null  int64   \n",
      "dtypes: category(5), float64(6), int64(4)\n",
      "memory usage: 111.6 MB\n"
     ]
    }
   ],
   "source": [
    "X_full.info()"
   ]
  },
  {
   "cell_type": "code",
   "execution_count": 12,
   "metadata": {
    "executionInfo": {
     "elapsed": 7,
     "status": "ok",
     "timestamp": 1669215877097,
     "user": {
      "displayName": "Andrew Lazko",
      "userId": "04969080350981822544"
     },
     "user_tz": -180
    },
    "id": "V2YxhxOQkSQt"
   },
   "outputs": [],
   "source": [
    "def my_score_func_c(y_real, preds):\n",
    "    return recall_score(y_real, preds,  average = \"macro\")\n",
    "\n",
    "my_scorer_c = make_scorer(my_score_func_c, greater_is_better=True)"
   ]
  },
  {
   "cell_type": "code",
   "execution_count": 13,
   "metadata": {
    "executionInfo": {
     "elapsed": 3,
     "status": "ok",
     "timestamp": 1669215877408,
     "user": {
      "displayName": "Andrew Lazko",
      "userId": "04969080350981822544"
     },
     "user_tz": -180
    },
    "id": "xh1BvWsY0lhx"
   },
   "outputs": [],
   "source": [
    "def my_score_func_r(y_real, preds):\n",
    "    return r2_score(y_real, preds)\n",
    "\n",
    "my_scorer_r = make_scorer(my_score_func_r, greater_is_better=True)"
   ]
  },
  {
   "cell_type": "markdown",
   "metadata": {},
   "source": [
    "## Проба классификации"
   ]
  },
  {
   "cell_type": "code",
   "execution_count": 14,
   "metadata": {
    "executionInfo": {
     "elapsed": 322,
     "status": "ok",
     "timestamp": 1669215888339,
     "user": {
      "displayName": "Andrew Lazko",
      "userId": "04969080350981822544"
     },
     "user_tz": -180
    },
    "id": "9cM-olvl1KZA"
   },
   "outputs": [],
   "source": [
    "y_c = X_full.label\n",
    "y_r = X_full.time_to_under\n",
    "X_full.drop(['label', 'time_to_under', 'ticket_id'], axis=1, inplace=True, errors='ignore')"
   ]
  },
  {
   "cell_type": "code",
   "execution_count": 15,
   "metadata": {
    "colab": {
     "base_uri": "https://localhost:8080/"
    },
    "executionInfo": {
     "elapsed": 302,
     "status": "ok",
     "timestamp": 1669215890710,
     "user": {
      "displayName": "Andrew Lazko",
      "userId": "04969080350981822544"
     },
     "user_tz": -180
    },
    "id": "no8faJbF2ON9",
    "outputId": "59a63ceb-96f7-4f81-8559-4b854b915a8f"
   },
   "outputs": [
    {
     "name": "stdout",
     "output_type": "stream",
     "text": [
      "<class 'pandas.core.frame.DataFrame'>\n",
      "Int64Index: 1091021 entries, 1 to 1091021\n",
      "Data columns (total 12 columns):\n",
      " #   Column              Non-Null Count    Dtype   \n",
      "---  ------              --------------    -----   \n",
      " 0   ticket_type_nm      1091021 non-null  category\n",
      " 1   station_id          1091021 non-null  category\n",
      " 2   passenger_category  1091021 non-null  category\n",
      " 3   day_valid           1091021 non-null  category\n",
      " 4   time_valid          1091021 non-null  int64   \n",
      " 5   count_of_trips      1091021 non-null  int64   \n",
      " 6   mean_time_valid     1091021 non-null  float64 \n",
      " 7   std_day_valid       1091021 non-null  float64 \n",
      " 8   std_time_valid      1091021 non-null  float64 \n",
      " 9   var_day_valid       1091021 non-null  float64 \n",
      " 10  var_time_valid      1091021 non-null  float64 \n",
      " 11  n_station_id        1091021 non-null  int64   \n",
      "dtypes: category(4), float64(5), int64(3)\n",
      "memory usage: 80.1 MB\n"
     ]
    }
   ],
   "source": [
    "X_full.info()"
   ]
  },
  {
   "cell_type": "code",
   "execution_count": 16,
   "metadata": {
    "executionInfo": {
     "elapsed": 3,
     "status": "ok",
     "timestamp": 1669215893007,
     "user": {
      "displayName": "Andrew Lazko",
      "userId": "04969080350981822544"
     },
     "user_tz": -180
    },
    "id": "kxMl0q4l5wLQ"
   },
   "outputs": [],
   "source": [
    "X_full.drop(['ticket_type_nm'], axis=1, inplace=True, errors='ignore')"
   ]
  },
  {
   "cell_type": "code",
   "execution_count": 17,
   "metadata": {
    "colab": {
     "base_uri": "https://localhost:8080/"
    },
    "executionInfo": {
     "elapsed": 5,
     "status": "ok",
     "timestamp": 1669215895445,
     "user": {
      "displayName": "Andrew Lazko",
      "userId": "04969080350981822544"
     },
     "user_tz": -180
    },
    "id": "5mkebpKC2aG-",
    "outputId": "60934e3e-a3b7-4861-9eb9-2a013e48b2a5"
   },
   "outputs": [
    {
     "data": {
      "text/plain": [
       "['station_id', 'passenger_category', 'day_valid']"
      ]
     },
     "execution_count": 17,
     "metadata": {},
     "output_type": "execute_result"
    }
   ],
   "source": [
    "cat_cols = [col for col in X_full.columns if X_full[col].dtype=='category']\n",
    "cat_cols"
   ]
  },
  {
   "cell_type": "code",
   "execution_count": 18,
   "metadata": {
    "executionInfo": {
     "elapsed": 919,
     "status": "ok",
     "timestamp": 1669215899079,
     "user": {
      "displayName": "Andrew Lazko",
      "userId": "04969080350981822544"
     },
     "user_tz": -180
    },
    "id": "es2ISv273aKy"
   },
   "outputs": [],
   "source": [
    "X_train1, X_valid1, y_train1, y_valid1 = train_test_split(X_full, y_c, test_size=0.23, stratify=y_c)"
   ]
  },
  {
   "cell_type": "code",
   "execution_count": 19,
   "metadata": {
    "colab": {
     "base_uri": "https://localhost:8080/"
    },
    "executionInfo": {
     "elapsed": 387,
     "status": "ok",
     "timestamp": 1669215901818,
     "user": {
      "displayName": "Andrew Lazko",
      "userId": "04969080350981822544"
     },
     "user_tz": -180
    },
    "id": "F39RFQSw57ty",
    "outputId": "fd77f102-3e76-48b4-952e-8b3a47de6d53"
   },
   "outputs": [
    {
     "data": {
      "text/plain": [
       "(840086, 11)"
      ]
     },
     "execution_count": 19,
     "metadata": {},
     "output_type": "execute_result"
    }
   ],
   "source": [
    "X_train1.shape"
   ]
  },
  {
   "cell_type": "code",
   "execution_count": 20,
   "metadata": {
    "colab": {
     "base_uri": "https://localhost:8080/"
    },
    "executionInfo": {
     "elapsed": 377,
     "status": "ok",
     "timestamp": 1669215906811,
     "user": {
      "displayName": "Andrew Lazko",
      "userId": "04969080350981822544"
     },
     "user_tz": -180
    },
    "id": "6Xh6viNR3ptG",
    "outputId": "dd7b2a23-0296-43f1-de56-c026243176c4"
   },
   "outputs": [
    {
     "data": {
      "text/plain": [
       "7723.567707353771"
      ]
     },
     "execution_count": 20,
     "metadata": {},
     "output_type": "execute_result"
    }
   ],
   "source": [
    "y_train1.mean()"
   ]
  },
  {
   "cell_type": "code",
   "execution_count": 21,
   "metadata": {
    "colab": {
     "base_uri": "https://localhost:8080/"
    },
    "executionInfo": {
     "elapsed": 317,
     "status": "ok",
     "timestamp": 1669215910805,
     "user": {
      "displayName": "Andrew Lazko",
      "userId": "04969080350981822544"
     },
     "user_tz": -180
    },
    "id": "QATq9vNj30Qu",
    "outputId": "a7f9c12b-d260-40e1-a033-863cd4ef3982"
   },
   "outputs": [
    {
     "data": {
      "text/plain": [
       "276"
      ]
     },
     "execution_count": 21,
     "metadata": {},
     "output_type": "execute_result"
    }
   ],
   "source": [
    "y_train1.nunique()"
   ]
  },
  {
   "cell_type": "code",
   "execution_count": 22,
   "metadata": {
    "colab": {
     "base_uri": "https://localhost:8080/"
    },
    "executionInfo": {
     "elapsed": 501,
     "status": "ok",
     "timestamp": 1669215912276,
     "user": {
      "displayName": "Andrew Lazko",
      "userId": "04969080350981822544"
     },
     "user_tz": -180
    },
    "id": "PbuBWQfn6Dds",
    "outputId": "abdfedfa-02cc-412c-db24-53bf5f579be2"
   },
   "outputs": [
    {
     "data": {
      "text/plain": [
       "(250935, 11)"
      ]
     },
     "execution_count": 22,
     "metadata": {},
     "output_type": "execute_result"
    }
   ],
   "source": [
    "X_valid1.shape"
   ]
  },
  {
   "cell_type": "code",
   "execution_count": 23,
   "metadata": {
    "colab": {
     "base_uri": "https://localhost:8080/"
    },
    "executionInfo": {
     "elapsed": 2,
     "status": "ok",
     "timestamp": 1669215912588,
     "user": {
      "displayName": "Andrew Lazko",
      "userId": "04969080350981822544"
     },
     "user_tz": -180
    },
    "id": "UdetGFOj3vcA",
    "outputId": "52f5761d-b13a-4c68-cd42-ebb6f0f457e3"
   },
   "outputs": [
    {
     "data": {
      "text/plain": [
       "7723.38990176739"
      ]
     },
     "execution_count": 23,
     "metadata": {},
     "output_type": "execute_result"
    }
   ],
   "source": [
    "y_valid1.mean()"
   ]
  },
  {
   "cell_type": "code",
   "execution_count": 24,
   "metadata": {
    "colab": {
     "base_uri": "https://localhost:8080/"
    },
    "executionInfo": {
     "elapsed": 4,
     "status": "ok",
     "timestamp": 1669215912901,
     "user": {
      "displayName": "Andrew Lazko",
      "userId": "04969080350981822544"
     },
     "user_tz": -180
    },
    "id": "UPrcdR5_37W5",
    "outputId": "400dff79-3d0a-4cc2-a83f-fd237433ee37"
   },
   "outputs": [
    {
     "data": {
      "text/plain": [
       "276"
      ]
     },
     "execution_count": 24,
     "metadata": {},
     "output_type": "execute_result"
    }
   ],
   "source": [
    "y_valid1.nunique()"
   ]
  },
  {
   "cell_type": "code",
   "execution_count": 25,
   "metadata": {
    "executionInfo": {
     "elapsed": 461,
     "status": "ok",
     "timestamp": 1669215914396,
     "user": {
      "displayName": "Andrew Lazko",
      "userId": "04969080350981822544"
     },
     "user_tz": -180
    },
    "id": "OVHmBCzUzcM-"
   },
   "outputs": [],
   "source": [
    "classes = np.unique(y_c)\n",
    "weights = compute_class_weight(class_weight='balanced', classes=classes, y=y_c)\n",
    "class_weights = dict(zip(classes, weights))\n",
    "#class_weights"
   ]
  },
  {
   "cell_type": "code",
   "execution_count": null,
   "metadata": {
    "id": "3ZfQ7GP2zwwH"
   },
   "outputs": [],
   "source": [
    "model = CatBoostClassifier(loss_function=\"MultiClass\",  verbose=False, random_state=11,\n",
    "                           task_type='GPU', gpu_ram_part=0.96, max_depth=3, cat_features=cat_cols,\n",
    "                           one_hot_max_size=5, auto_class_weights='balanced', n_estimators=300)"
   ]
  },
  {
   "cell_type": "code",
   "execution_count": null,
   "metadata": {
    "colab": {
     "base_uri": "https://localhost:8080/"
    },
    "executionInfo": {
     "elapsed": 1801535,
     "status": "ok",
     "timestamp": 1669187652181,
     "user": {
      "displayName": "Andrew Lazko",
      "userId": "04969080350981822544"
     },
     "user_tz": -180
    },
    "id": "1C-WXvAx4OwA",
    "outputId": "3ca7d7c2-8886-4390-879a-2eb37e3b7a2b"
   },
   "outputs": [
    {
     "data": {
      "text/plain": [
       "<catboost.core.CatBoostClassifier at 0x7f882dc2ded0>"
      ]
     },
     "execution_count": 43,
     "metadata": {},
     "output_type": "execute_result"
    }
   ],
   "source": [
    "model.fit(X_train1, y_train1, eval_set=[(X_valid1, y_valid1)], early_stopping_rounds=99, verbose=False)"
   ]
  },
  {
   "cell_type": "code",
   "execution_count": null,
   "metadata": {
    "id": "oI4vbHe2_AXG"
   },
   "outputs": [],
   "source": [
    "preds = model.predict(X_valid1)"
   ]
  },
  {
   "cell_type": "code",
   "execution_count": null,
   "metadata": {
    "colab": {
     "base_uri": "https://localhost:8080/"
    },
    "executionInfo": {
     "elapsed": 6,
     "status": "ok",
     "timestamp": 1669187653292,
     "user": {
      "displayName": "Andrew Lazko",
      "userId": "04969080350981822544"
     },
     "user_tz": -180
    },
    "id": "2he6sQNf_I-I",
    "outputId": "71510679-08e3-4396-9ddc-980a1bdaf366"
   },
   "outputs": [
    {
     "data": {
      "text/plain": [
       "0.011515717003572068"
      ]
     },
     "execution_count": 45,
     "metadata": {},
     "output_type": "execute_result"
    }
   ],
   "source": [
    "my_score_func_c(y_valid1, preds)"
   ]
  },
  {
   "cell_type": "markdown",
   "metadata": {
    "id": "2Viv6oPSBbaw"
   },
   "source": [
    "## Проба регрессии!"
   ]
  },
  {
   "cell_type": "code",
   "execution_count": null,
   "metadata": {
    "id": "Jm2LBSMGE0au"
   },
   "outputs": [],
   "source": [
    "X_full = df.copy()\n",
    "y_c = X_full.label\n",
    "y_r = X_full.time_to_under\n",
    "X_full.drop(['label', 'time_to_under', 'ticket_id'], axis=1, inplace=True, errors='ignore')"
   ]
  },
  {
   "cell_type": "code",
   "execution_count": null,
   "metadata": {
    "id": "ClDqO8qMBDcs"
   },
   "outputs": [],
   "source": [
    "X_train2, X_valid2, y_train2, y_valid2 = train_test_split(X_full, y_r, test_size=0.3)"
   ]
  },
  {
   "cell_type": "code",
   "execution_count": null,
   "metadata": {
    "colab": {
     "base_uri": "https://localhost:8080/"
    },
    "executionInfo": {
     "elapsed": 10,
     "status": "ok",
     "timestamp": 1669187653944,
     "user": {
      "displayName": "Andrew Lazko",
      "userId": "04969080350981822544"
     },
     "user_tz": -180
    },
    "id": "lwDJA5TdFSDk",
    "outputId": "6eb48da5-b6b2-4707-8cf6-957d70cfd18c"
   },
   "outputs": [
    {
     "data": {
      "text/plain": [
       "['ticket_type_nm', 'station_id', 'passenger_category', 'day_valid']"
      ]
     },
     "execution_count": 48,
     "metadata": {},
     "output_type": "execute_result"
    }
   ],
   "source": [
    "cat_cols = [col for col in X_full.columns if X_full[col].dtype=='category']\n",
    "cat_cols"
   ]
  },
  {
   "cell_type": "code",
   "execution_count": null,
   "metadata": {
    "id": "KvjtXZId_-bk"
   },
   "outputs": [],
   "source": [
    "model_r = CatBoostRegressor(loss_function=\"RMSE\",  verbose=False, random_state=11,\n",
    "                            gpu_ram_part=0.96, max_depth=3, cat_features=cat_cols,\n",
    "                           one_hot_max_size=10, eval_metric='R2',  task_type='GPU')"
   ]
  },
  {
   "cell_type": "code",
   "execution_count": null,
   "metadata": {
    "colab": {
     "base_uri": "https://localhost:8080/"
    },
    "executionInfo": {
     "elapsed": 8,
     "status": "ok",
     "timestamp": 1669187653945,
     "user": {
      "displayName": "Andrew Lazko",
      "userId": "04969080350981822544"
     },
     "user_tz": -180
    },
    "id": "PeauwyjCA_OL",
    "outputId": "87757c72-7b3f-4068-e817-49e4c412fa8a"
   },
   "outputs": [
    {
     "data": {
      "text/plain": [
       "193"
      ]
     },
     "execution_count": 50,
     "metadata": {},
     "output_type": "execute_result"
    }
   ],
   "source": [
    "gc.collect()"
   ]
  },
  {
   "cell_type": "code",
   "execution_count": null,
   "metadata": {
    "colab": {
     "base_uri": "https://localhost:8080/"
    },
    "executionInfo": {
     "elapsed": 215782,
     "status": "ok",
     "timestamp": 1669187869723,
     "user": {
      "displayName": "Andrew Lazko",
      "userId": "04969080350981822544"
     },
     "user_tz": -180
    },
    "id": "luGgQjJcBOrx",
    "outputId": "04304442-2c12-43e4-e36f-e49a40258203"
   },
   "outputs": [
    {
     "data": {
      "text/plain": [
       "<catboost.core.CatBoostRegressor at 0x7f88284824d0>"
      ]
     },
     "execution_count": 51,
     "metadata": {},
     "output_type": "execute_result"
    }
   ],
   "source": [
    "model_r.fit(X_train2, y_train2, eval_set=[(X_valid2, y_valid2)], early_stopping_rounds=99, verbose=False)"
   ]
  },
  {
   "cell_type": "code",
   "execution_count": null,
   "metadata": {
    "id": "km9MS3x7Bsf8"
   },
   "outputs": [],
   "source": [
    "preds_r = model_r.predict(X_valid2)"
   ]
  },
  {
   "cell_type": "code",
   "execution_count": null,
   "metadata": {
    "colab": {
     "base_uri": "https://localhost:8080/"
    },
    "executionInfo": {
     "elapsed": 21,
     "status": "ok",
     "timestamp": 1669187870757,
     "user": {
      "displayName": "Andrew Lazko",
      "userId": "04969080350981822544"
     },
     "user_tz": -180
    },
    "id": "vRUnPZEmByDC",
    "outputId": "9061d574-5279-4353-fa52-b0be54081e0f"
   },
   "outputs": [
    {
     "data": {
      "text/plain": [
       "0.5778066151730168"
      ]
     },
     "execution_count": 53,
     "metadata": {},
     "output_type": "execute_result"
    }
   ],
   "source": [
    "my_score_func_r(y_valid2, preds_r)"
   ]
  },
  {
   "cell_type": "markdown",
   "metadata": {
    "id": "EYYXo-9wF1UZ"
   },
   "source": [
    "### Проверка, что дает на доске наша проба пера"
   ]
  },
  {
   "cell_type": "code",
   "execution_count": 28,
   "metadata": {
    "executionInfo": {
     "elapsed": 4373,
     "status": "ok",
     "timestamp": 1669216325934,
     "user": {
      "displayName": "Andrew Lazko",
      "userId": "04969080350981822544"
     },
     "user_tz": -180
    },
    "id": "X2Hs6eSJFzH7"
   },
   "outputs": [],
   "source": [
    "df_test = pd.read_csv('/content/drive/MyDrive/amur/X_test.csv', dtype=types_full, index_col='id')"
   ]
  },
  {
   "cell_type": "code",
   "execution_count": 29,
   "metadata": {
    "executionInfo": {
     "elapsed": 15,
     "status": "ok",
     "timestamp": 1669216325935,
     "user": {
      "displayName": "Andrew Lazko",
      "userId": "04969080350981822544"
     },
     "user_tz": -180
    },
    "id": "mkmAobWPGN0V"
   },
   "outputs": [],
   "source": [
    "X_test = df_test.copy()"
   ]
  },
  {
   "cell_type": "code",
   "execution_count": 30,
   "metadata": {
    "colab": {
     "base_uri": "https://localhost:8080/",
     "height": 302
    },
    "executionInfo": {
     "elapsed": 15,
     "status": "ok",
     "timestamp": 1669216325937,
     "user": {
      "displayName": "Andrew Lazko",
      "userId": "04969080350981822544"
     },
     "user_tz": -180
    },
    "id": "3Ga-4kLjGnKO",
    "outputId": "f5b5a314-ea28-4483-f41d-3bc32ac12497"
   },
   "outputs": [
    {
     "data": {
      "text/html": [
       "\n",
       "  <div id=\"df-dd0b00a9-01b5-40de-a997-6145e29df776\">\n",
       "    <div class=\"colab-df-container\">\n",
       "      <div>\n",
       "<style scoped>\n",
       "    .dataframe tbody tr th:only-of-type {\n",
       "        vertical-align: middle;\n",
       "    }\n",
       "\n",
       "    .dataframe tbody tr th {\n",
       "        vertical-align: top;\n",
       "    }\n",
       "\n",
       "    .dataframe thead th {\n",
       "        text-align: right;\n",
       "    }\n",
       "</style>\n",
       "<table border=\"1\" class=\"dataframe\">\n",
       "  <thead>\n",
       "    <tr style=\"text-align: right;\">\n",
       "      <th></th>\n",
       "      <th>ticket_id</th>\n",
       "      <th>ticket_type_nm</th>\n",
       "      <th>station_id</th>\n",
       "      <th>passenger_category</th>\n",
       "      <th>day_valid</th>\n",
       "      <th>time_valid</th>\n",
       "      <th>count_of_trips</th>\n",
       "      <th>mean_time_valid</th>\n",
       "      <th>std_day_valid</th>\n",
       "      <th>std_time_valid</th>\n",
       "      <th>var_day_valid</th>\n",
       "      <th>var_time_valid</th>\n",
       "      <th>n_station_id</th>\n",
       "    </tr>\n",
       "    <tr>\n",
       "      <th>id</th>\n",
       "      <th></th>\n",
       "      <th></th>\n",
       "      <th></th>\n",
       "      <th></th>\n",
       "      <th></th>\n",
       "      <th></th>\n",
       "      <th></th>\n",
       "      <th></th>\n",
       "      <th></th>\n",
       "      <th></th>\n",
       "      <th></th>\n",
       "      <th></th>\n",
       "      <th></th>\n",
       "    </tr>\n",
       "  </thead>\n",
       "  <tbody>\n",
       "    <tr>\n",
       "      <th>1091022</th>\n",
       "      <td>425A13E16226CA01032043111488E0F5</td>\n",
       "      <td>wallet</td>\n",
       "      <td>2006</td>\n",
       "      <td>simple</td>\n",
       "      <td>0</td>\n",
       "      <td>18003</td>\n",
       "      <td>4</td>\n",
       "      <td>29203.750000</td>\n",
       "      <td>1.825742</td>\n",
       "      <td>8605.954697</td>\n",
       "      <td>3.333333</td>\n",
       "      <td>7.406246e+07</td>\n",
       "      <td>1</td>\n",
       "    </tr>\n",
       "    <tr>\n",
       "      <th>1091023</th>\n",
       "      <td>F94EDC107A4E054786882F9453C1B93F</td>\n",
       "      <td>facepay</td>\n",
       "      <td>3010</td>\n",
       "      <td>simple</td>\n",
       "      <td>0</td>\n",
       "      <td>18045</td>\n",
       "      <td>3</td>\n",
       "      <td>33967.000000</td>\n",
       "      <td>1.527525</td>\n",
       "      <td>23012.525698</td>\n",
       "      <td>2.333333</td>\n",
       "      <td>5.295763e+08</td>\n",
       "      <td>2</td>\n",
       "    </tr>\n",
       "    <tr>\n",
       "      <th>1091024</th>\n",
       "      <td>8F13BFBA98A7DD34B11BD2DDCC5CA68E</td>\n",
       "      <td>student_30</td>\n",
       "      <td>2006</td>\n",
       "      <td>students</td>\n",
       "      <td>0</td>\n",
       "      <td>18052</td>\n",
       "      <td>6</td>\n",
       "      <td>39320.166667</td>\n",
       "      <td>2.160247</td>\n",
       "      <td>14828.942018</td>\n",
       "      <td>4.666667</td>\n",
       "      <td>2.198975e+08</td>\n",
       "      <td>1</td>\n",
       "    </tr>\n",
       "    <tr>\n",
       "      <th>1091025</th>\n",
       "      <td>7B98691636EC418ABF6FEDDE4D7C68FC</td>\n",
       "      <td>wallet</td>\n",
       "      <td>2018</td>\n",
       "      <td>simple</td>\n",
       "      <td>0</td>\n",
       "      <td>18058</td>\n",
       "      <td>3</td>\n",
       "      <td>36184.333333</td>\n",
       "      <td>2.516611</td>\n",
       "      <td>22732.768778</td>\n",
       "      <td>6.333333</td>\n",
       "      <td>5.167788e+08</td>\n",
       "      <td>2</td>\n",
       "    </tr>\n",
       "    <tr>\n",
       "      <th>1091026</th>\n",
       "      <td>679C55C28CB36FB546FD104502C0B3DB</td>\n",
       "      <td>wallet</td>\n",
       "      <td>2006</td>\n",
       "      <td>simple</td>\n",
       "      <td>0</td>\n",
       "      <td>18099</td>\n",
       "      <td>2</td>\n",
       "      <td>29273.000000</td>\n",
       "      <td>0.707107</td>\n",
       "      <td>15802.422346</td>\n",
       "      <td>0.500000</td>\n",
       "      <td>2.497166e+08</td>\n",
       "      <td>1</td>\n",
       "    </tr>\n",
       "  </tbody>\n",
       "</table>\n",
       "</div>\n",
       "      <button class=\"colab-df-convert\" onclick=\"convertToInteractive('df-dd0b00a9-01b5-40de-a997-6145e29df776')\"\n",
       "              title=\"Convert this dataframe to an interactive table.\"\n",
       "              style=\"display:none;\">\n",
       "        \n",
       "  <svg xmlns=\"http://www.w3.org/2000/svg\" height=\"24px\"viewBox=\"0 0 24 24\"\n",
       "       width=\"24px\">\n",
       "    <path d=\"M0 0h24v24H0V0z\" fill=\"none\"/>\n",
       "    <path d=\"M18.56 5.44l.94 2.06.94-2.06 2.06-.94-2.06-.94-.94-2.06-.94 2.06-2.06.94zm-11 1L8.5 8.5l.94-2.06 2.06-.94-2.06-.94L8.5 2.5l-.94 2.06-2.06.94zm10 10l.94 2.06.94-2.06 2.06-.94-2.06-.94-.94-2.06-.94 2.06-2.06.94z\"/><path d=\"M17.41 7.96l-1.37-1.37c-.4-.4-.92-.59-1.43-.59-.52 0-1.04.2-1.43.59L10.3 9.45l-7.72 7.72c-.78.78-.78 2.05 0 2.83L4 21.41c.39.39.9.59 1.41.59.51 0 1.02-.2 1.41-.59l7.78-7.78 2.81-2.81c.8-.78.8-2.07 0-2.86zM5.41 20L4 18.59l7.72-7.72 1.47 1.35L5.41 20z\"/>\n",
       "  </svg>\n",
       "      </button>\n",
       "      \n",
       "  <style>\n",
       "    .colab-df-container {\n",
       "      display:flex;\n",
       "      flex-wrap:wrap;\n",
       "      gap: 12px;\n",
       "    }\n",
       "\n",
       "    .colab-df-convert {\n",
       "      background-color: #E8F0FE;\n",
       "      border: none;\n",
       "      border-radius: 50%;\n",
       "      cursor: pointer;\n",
       "      display: none;\n",
       "      fill: #1967D2;\n",
       "      height: 32px;\n",
       "      padding: 0 0 0 0;\n",
       "      width: 32px;\n",
       "    }\n",
       "\n",
       "    .colab-df-convert:hover {\n",
       "      background-color: #E2EBFA;\n",
       "      box-shadow: 0px 1px 2px rgba(60, 64, 67, 0.3), 0px 1px 3px 1px rgba(60, 64, 67, 0.15);\n",
       "      fill: #174EA6;\n",
       "    }\n",
       "\n",
       "    [theme=dark] .colab-df-convert {\n",
       "      background-color: #3B4455;\n",
       "      fill: #D2E3FC;\n",
       "    }\n",
       "\n",
       "    [theme=dark] .colab-df-convert:hover {\n",
       "      background-color: #434B5C;\n",
       "      box-shadow: 0px 1px 3px 1px rgba(0, 0, 0, 0.15);\n",
       "      filter: drop-shadow(0px 1px 2px rgba(0, 0, 0, 0.3));\n",
       "      fill: #FFFFFF;\n",
       "    }\n",
       "  </style>\n",
       "\n",
       "      <script>\n",
       "        const buttonEl =\n",
       "          document.querySelector('#df-dd0b00a9-01b5-40de-a997-6145e29df776 button.colab-df-convert');\n",
       "        buttonEl.style.display =\n",
       "          google.colab.kernel.accessAllowed ? 'block' : 'none';\n",
       "\n",
       "        async function convertToInteractive(key) {\n",
       "          const element = document.querySelector('#df-dd0b00a9-01b5-40de-a997-6145e29df776');\n",
       "          const dataTable =\n",
       "            await google.colab.kernel.invokeFunction('convertToInteractive',\n",
       "                                                     [key], {});\n",
       "          if (!dataTable) return;\n",
       "\n",
       "          const docLinkHtml = 'Like what you see? Visit the ' +\n",
       "            '<a target=\"_blank\" href=https://colab.research.google.com/notebooks/data_table.ipynb>data table notebook</a>'\n",
       "            + ' to learn more about interactive tables.';\n",
       "          element.innerHTML = '';\n",
       "          dataTable['output_type'] = 'display_data';\n",
       "          await google.colab.output.renderOutput(dataTable, element);\n",
       "          const docLink = document.createElement('div');\n",
       "          docLink.innerHTML = docLinkHtml;\n",
       "          element.appendChild(docLink);\n",
       "        }\n",
       "      </script>\n",
       "    </div>\n",
       "  </div>\n",
       "  "
      ],
      "text/plain": [
       "                                ticket_id ticket_type_nm station_id  \\\n",
       "id                                                                    \n",
       "1091022  425A13E16226CA01032043111488E0F5         wallet       2006   \n",
       "1091023  F94EDC107A4E054786882F9453C1B93F        facepay       3010   \n",
       "1091024  8F13BFBA98A7DD34B11BD2DDCC5CA68E     student_30       2006   \n",
       "1091025  7B98691636EC418ABF6FEDDE4D7C68FC         wallet       2018   \n",
       "1091026  679C55C28CB36FB546FD104502C0B3DB         wallet       2006   \n",
       "\n",
       "        passenger_category day_valid  time_valid  count_of_trips  \\\n",
       "id                                                                 \n",
       "1091022             simple         0       18003               4   \n",
       "1091023             simple         0       18045               3   \n",
       "1091024           students         0       18052               6   \n",
       "1091025             simple         0       18058               3   \n",
       "1091026             simple         0       18099               2   \n",
       "\n",
       "         mean_time_valid  std_day_valid  std_time_valid  var_day_valid  \\\n",
       "id                                                                       \n",
       "1091022     29203.750000       1.825742     8605.954697       3.333333   \n",
       "1091023     33967.000000       1.527525    23012.525698       2.333333   \n",
       "1091024     39320.166667       2.160247    14828.942018       4.666667   \n",
       "1091025     36184.333333       2.516611    22732.768778       6.333333   \n",
       "1091026     29273.000000       0.707107    15802.422346       0.500000   \n",
       "\n",
       "         var_time_valid  n_station_id  \n",
       "id                                     \n",
       "1091022    7.406246e+07             1  \n",
       "1091023    5.295763e+08             2  \n",
       "1091024    2.198975e+08             1  \n",
       "1091025    5.167788e+08             2  \n",
       "1091026    2.497166e+08             1  "
      ]
     },
     "execution_count": 30,
     "metadata": {},
     "output_type": "execute_result"
    }
   ],
   "source": [
    "X_test.head()"
   ]
  },
  {
   "cell_type": "code",
   "execution_count": 31,
   "metadata": {
    "executionInfo": {
     "elapsed": 2,
     "status": "ok",
     "timestamp": 1669216327181,
     "user": {
      "displayName": "Andrew Lazko",
      "userId": "04969080350981822544"
     },
     "user_tz": -180
    },
    "id": "K9DSTNxwHVQO"
   },
   "outputs": [],
   "source": [
    "X_test.drop('ticket_id', axis=1, inplace=True)"
   ]
  },
  {
   "cell_type": "code",
   "execution_count": 32,
   "metadata": {
    "colab": {
     "base_uri": "https://localhost:8080/"
    },
    "executionInfo": {
     "elapsed": 397,
     "status": "ok",
     "timestamp": 1669216328690,
     "user": {
      "displayName": "Andrew Lazko",
      "userId": "04969080350981822544"
     },
     "user_tz": -180
    },
    "id": "7gqpXICGGp-5",
    "outputId": "a2e62f34-b669-4e60-f620-121c04da2241"
   },
   "outputs": [
    {
     "name": "stdout",
     "output_type": "stream",
     "text": [
      "<class 'pandas.core.frame.DataFrame'>\n",
      "Int64Index: 561890 entries, 1091022 to 1652911\n",
      "Data columns (total 12 columns):\n",
      " #   Column              Non-Null Count   Dtype   \n",
      "---  ------              --------------   -----   \n",
      " 0   ticket_type_nm      561890 non-null  category\n",
      " 1   station_id          561890 non-null  category\n",
      " 2   passenger_category  561890 non-null  category\n",
      " 3   day_valid           561890 non-null  category\n",
      " 4   time_valid          561890 non-null  int64   \n",
      " 5   count_of_trips      561890 non-null  int64   \n",
      " 6   mean_time_valid     561890 non-null  float64 \n",
      " 7   std_day_valid       561890 non-null  float64 \n",
      " 8   std_time_valid      561890 non-null  float64 \n",
      " 9   var_day_valid       561890 non-null  float64 \n",
      " 10  var_time_valid      561890 non-null  float64 \n",
      " 11  n_station_id        561890 non-null  int64   \n",
      "dtypes: category(4), float64(5), int64(3)\n",
      "memory usage: 41.3 MB\n"
     ]
    }
   ],
   "source": [
    "X_test.info()"
   ]
  },
  {
   "cell_type": "code",
   "execution_count": null,
   "metadata": {
    "colab": {
     "base_uri": "https://localhost:8080/"
    },
    "executionInfo": {
     "elapsed": 4,
     "status": "ok",
     "timestamp": 1669187914877,
     "user": {
      "displayName": "Andrew Lazko",
      "userId": "04969080350981822544"
     },
     "user_tz": -180
    },
    "id": "IqZZxAMgGzO9",
    "outputId": "8ddf6545-0382-45c5-8377-fa87d4bd89fc"
   },
   "outputs": [],
   "source": [
    "model.get_params()"
   ]
  },
  {
   "cell_type": "code",
   "execution_count": null,
   "metadata": {
    "colab": {
     "base_uri": "https://localhost:8080/",
     "height": 394
    },
    "executionInfo": {
     "elapsed": 5,
     "status": "ok",
     "timestamp": 1669187915410,
     "user": {
      "displayName": "Andrew Lazko",
      "userId": "04969080350981822544"
     },
     "user_tz": -180
    },
    "id": "iWN6A1xnIfxu",
    "outputId": "2a16f059-1420-43de-a630-0ec2da56d339"
   },
   "outputs": [
    {
     "data": {
      "text/html": [
       "\n",
       "  <div id=\"df-a7adf751-53db-46c5-938a-368d31048ddb\">\n",
       "    <div class=\"colab-df-container\">\n",
       "      <div>\n",
       "<style scoped>\n",
       "    .dataframe tbody tr th:only-of-type {\n",
       "        vertical-align: middle;\n",
       "    }\n",
       "\n",
       "    .dataframe tbody tr th {\n",
       "        vertical-align: top;\n",
       "    }\n",
       "\n",
       "    .dataframe thead th {\n",
       "        text-align: right;\n",
       "    }\n",
       "</style>\n",
       "<table border=\"1\" class=\"dataframe\">\n",
       "  <thead>\n",
       "    <tr style=\"text-align: right;\">\n",
       "      <th></th>\n",
       "      <th>Feature Id</th>\n",
       "      <th>Importances</th>\n",
       "    </tr>\n",
       "  </thead>\n",
       "  <tbody>\n",
       "    <tr>\n",
       "      <th>0</th>\n",
       "      <td>station_id</td>\n",
       "      <td>71.791016</td>\n",
       "    </tr>\n",
       "    <tr>\n",
       "      <th>1</th>\n",
       "      <td>time_valid</td>\n",
       "      <td>28.208984</td>\n",
       "    </tr>\n",
       "    <tr>\n",
       "      <th>2</th>\n",
       "      <td>passenger_category</td>\n",
       "      <td>0.000000</td>\n",
       "    </tr>\n",
       "    <tr>\n",
       "      <th>3</th>\n",
       "      <td>day_valid</td>\n",
       "      <td>0.000000</td>\n",
       "    </tr>\n",
       "    <tr>\n",
       "      <th>4</th>\n",
       "      <td>count_of_trips</td>\n",
       "      <td>0.000000</td>\n",
       "    </tr>\n",
       "    <tr>\n",
       "      <th>5</th>\n",
       "      <td>mean_time_valid</td>\n",
       "      <td>0.000000</td>\n",
       "    </tr>\n",
       "    <tr>\n",
       "      <th>6</th>\n",
       "      <td>std_day_valid</td>\n",
       "      <td>0.000000</td>\n",
       "    </tr>\n",
       "    <tr>\n",
       "      <th>7</th>\n",
       "      <td>std_time_valid</td>\n",
       "      <td>0.000000</td>\n",
       "    </tr>\n",
       "    <tr>\n",
       "      <th>8</th>\n",
       "      <td>var_day_valid</td>\n",
       "      <td>0.000000</td>\n",
       "    </tr>\n",
       "    <tr>\n",
       "      <th>9</th>\n",
       "      <td>var_time_valid</td>\n",
       "      <td>0.000000</td>\n",
       "    </tr>\n",
       "    <tr>\n",
       "      <th>10</th>\n",
       "      <td>n_station_id</td>\n",
       "      <td>0.000000</td>\n",
       "    </tr>\n",
       "  </tbody>\n",
       "</table>\n",
       "</div>\n",
       "      <button class=\"colab-df-convert\" onclick=\"convertToInteractive('df-a7adf751-53db-46c5-938a-368d31048ddb')\"\n",
       "              title=\"Convert this dataframe to an interactive table.\"\n",
       "              style=\"display:none;\">\n",
       "        \n",
       "  <svg xmlns=\"http://www.w3.org/2000/svg\" height=\"24px\"viewBox=\"0 0 24 24\"\n",
       "       width=\"24px\">\n",
       "    <path d=\"M0 0h24v24H0V0z\" fill=\"none\"/>\n",
       "    <path d=\"M18.56 5.44l.94 2.06.94-2.06 2.06-.94-2.06-.94-.94-2.06-.94 2.06-2.06.94zm-11 1L8.5 8.5l.94-2.06 2.06-.94-2.06-.94L8.5 2.5l-.94 2.06-2.06.94zm10 10l.94 2.06.94-2.06 2.06-.94-2.06-.94-.94-2.06-.94 2.06-2.06.94z\"/><path d=\"M17.41 7.96l-1.37-1.37c-.4-.4-.92-.59-1.43-.59-.52 0-1.04.2-1.43.59L10.3 9.45l-7.72 7.72c-.78.78-.78 2.05 0 2.83L4 21.41c.39.39.9.59 1.41.59.51 0 1.02-.2 1.41-.59l7.78-7.78 2.81-2.81c.8-.78.8-2.07 0-2.86zM5.41 20L4 18.59l7.72-7.72 1.47 1.35L5.41 20z\"/>\n",
       "  </svg>\n",
       "      </button>\n",
       "      \n",
       "  <style>\n",
       "    .colab-df-container {\n",
       "      display:flex;\n",
       "      flex-wrap:wrap;\n",
       "      gap: 12px;\n",
       "    }\n",
       "\n",
       "    .colab-df-convert {\n",
       "      background-color: #E8F0FE;\n",
       "      border: none;\n",
       "      border-radius: 50%;\n",
       "      cursor: pointer;\n",
       "      display: none;\n",
       "      fill: #1967D2;\n",
       "      height: 32px;\n",
       "      padding: 0 0 0 0;\n",
       "      width: 32px;\n",
       "    }\n",
       "\n",
       "    .colab-df-convert:hover {\n",
       "      background-color: #E2EBFA;\n",
       "      box-shadow: 0px 1px 2px rgba(60, 64, 67, 0.3), 0px 1px 3px 1px rgba(60, 64, 67, 0.15);\n",
       "      fill: #174EA6;\n",
       "    }\n",
       "\n",
       "    [theme=dark] .colab-df-convert {\n",
       "      background-color: #3B4455;\n",
       "      fill: #D2E3FC;\n",
       "    }\n",
       "\n",
       "    [theme=dark] .colab-df-convert:hover {\n",
       "      background-color: #434B5C;\n",
       "      box-shadow: 0px 1px 3px 1px rgba(0, 0, 0, 0.15);\n",
       "      filter: drop-shadow(0px 1px 2px rgba(0, 0, 0, 0.3));\n",
       "      fill: #FFFFFF;\n",
       "    }\n",
       "  </style>\n",
       "\n",
       "      <script>\n",
       "        const buttonEl =\n",
       "          document.querySelector('#df-a7adf751-53db-46c5-938a-368d31048ddb button.colab-df-convert');\n",
       "        buttonEl.style.display =\n",
       "          google.colab.kernel.accessAllowed ? 'block' : 'none';\n",
       "\n",
       "        async function convertToInteractive(key) {\n",
       "          const element = document.querySelector('#df-a7adf751-53db-46c5-938a-368d31048ddb');\n",
       "          const dataTable =\n",
       "            await google.colab.kernel.invokeFunction('convertToInteractive',\n",
       "                                                     [key], {});\n",
       "          if (!dataTable) return;\n",
       "\n",
       "          const docLinkHtml = 'Like what you see? Visit the ' +\n",
       "            '<a target=\"_blank\" href=https://colab.research.google.com/notebooks/data_table.ipynb>data table notebook</a>'\n",
       "            + ' to learn more about interactive tables.';\n",
       "          element.innerHTML = '';\n",
       "          dataTable['output_type'] = 'display_data';\n",
       "          await google.colab.output.renderOutput(dataTable, element);\n",
       "          const docLink = document.createElement('div');\n",
       "          docLink.innerHTML = docLinkHtml;\n",
       "          element.appendChild(docLink);\n",
       "        }\n",
       "      </script>\n",
       "    </div>\n",
       "  </div>\n",
       "  "
      ],
      "text/plain": [
       "            Feature Id  Importances\n",
       "0           station_id    71.791016\n",
       "1           time_valid    28.208984\n",
       "2   passenger_category     0.000000\n",
       "3            day_valid     0.000000\n",
       "4       count_of_trips     0.000000\n",
       "5      mean_time_valid     0.000000\n",
       "6        std_day_valid     0.000000\n",
       "7       std_time_valid     0.000000\n",
       "8        var_day_valid     0.000000\n",
       "9       var_time_valid     0.000000\n",
       "10        n_station_id     0.000000"
      ]
     },
     "execution_count": 61,
     "metadata": {},
     "output_type": "execute_result"
    }
   ],
   "source": [
    "model.get_feature_importance(prettified=True)"
   ]
  },
  {
   "cell_type": "code",
   "execution_count": null,
   "metadata": {
    "id": "qmzbt-r1HMLe"
   },
   "outputs": [],
   "source": [
    "y_test_c = model.predict(X_test.drop('ticket_type_nm', axis=1))"
   ]
  },
  {
   "cell_type": "code",
   "execution_count": null,
   "metadata": {
    "colab": {
     "base_uri": "https://localhost:8080/"
    },
    "executionInfo": {
     "elapsed": 286203,
     "status": "ok",
     "timestamp": 1669188228840,
     "user": {
      "displayName": "Andrew Lazko",
      "userId": "04969080350981822544"
     },
     "user_tz": -180
    },
    "id": "a-P3CObPHf4m",
    "outputId": "00497bfe-cdfb-4bef-92e3-481735d3e488"
   },
   "outputs": [
    {
     "data": {
      "text/plain": [
       "<catboost.core.CatBoostRegressor at 0x7f88284824d0>"
      ]
     },
     "execution_count": 63,
     "metadata": {},
     "output_type": "execute_result"
    }
   ],
   "source": [
    "model_r.fit(X_full, y_r)"
   ]
  },
  {
   "cell_type": "code",
   "execution_count": null,
   "metadata": {
    "colab": {
     "base_uri": "https://localhost:8080/",
     "height": 425
    },
    "executionInfo": {
     "elapsed": 21,
     "status": "ok",
     "timestamp": 1669188228841,
     "user": {
      "displayName": "Andrew Lazko",
      "userId": "04969080350981822544"
     },
     "user_tz": -180
    },
    "id": "VwraitiGwmjt",
    "outputId": "fc79d64f-4909-4e20-b825-6c8a53fba2a0"
   },
   "outputs": [
    {
     "data": {
      "text/html": [
       "\n",
       "  <div id=\"df-286c2527-6e1f-498a-b899-f2632806cf0e\">\n",
       "    <div class=\"colab-df-container\">\n",
       "      <div>\n",
       "<style scoped>\n",
       "    .dataframe tbody tr th:only-of-type {\n",
       "        vertical-align: middle;\n",
       "    }\n",
       "\n",
       "    .dataframe tbody tr th {\n",
       "        vertical-align: top;\n",
       "    }\n",
       "\n",
       "    .dataframe thead th {\n",
       "        text-align: right;\n",
       "    }\n",
       "</style>\n",
       "<table border=\"1\" class=\"dataframe\">\n",
       "  <thead>\n",
       "    <tr style=\"text-align: right;\">\n",
       "      <th></th>\n",
       "      <th>Feature Id</th>\n",
       "      <th>Importances</th>\n",
       "    </tr>\n",
       "  </thead>\n",
       "  <tbody>\n",
       "    <tr>\n",
       "      <th>0</th>\n",
       "      <td>time_valid</td>\n",
       "      <td>66.462662</td>\n",
       "    </tr>\n",
       "    <tr>\n",
       "      <th>1</th>\n",
       "      <td>count_of_trips</td>\n",
       "      <td>9.957220</td>\n",
       "    </tr>\n",
       "    <tr>\n",
       "      <th>2</th>\n",
       "      <td>passenger_category</td>\n",
       "      <td>5.927217</td>\n",
       "    </tr>\n",
       "    <tr>\n",
       "      <th>3</th>\n",
       "      <td>mean_time_valid</td>\n",
       "      <td>3.489259</td>\n",
       "    </tr>\n",
       "    <tr>\n",
       "      <th>4</th>\n",
       "      <td>ticket_type_nm</td>\n",
       "      <td>3.467426</td>\n",
       "    </tr>\n",
       "    <tr>\n",
       "      <th>5</th>\n",
       "      <td>std_time_valid</td>\n",
       "      <td>3.149244</td>\n",
       "    </tr>\n",
       "    <tr>\n",
       "      <th>6</th>\n",
       "      <td>var_time_valid</td>\n",
       "      <td>3.070278</td>\n",
       "    </tr>\n",
       "    <tr>\n",
       "      <th>7</th>\n",
       "      <td>day_valid</td>\n",
       "      <td>2.265842</td>\n",
       "    </tr>\n",
       "    <tr>\n",
       "      <th>8</th>\n",
       "      <td>var_day_valid</td>\n",
       "      <td>0.676823</td>\n",
       "    </tr>\n",
       "    <tr>\n",
       "      <th>9</th>\n",
       "      <td>std_day_valid</td>\n",
       "      <td>0.632041</td>\n",
       "    </tr>\n",
       "    <tr>\n",
       "      <th>10</th>\n",
       "      <td>station_id</td>\n",
       "      <td>0.607991</td>\n",
       "    </tr>\n",
       "    <tr>\n",
       "      <th>11</th>\n",
       "      <td>n_station_id</td>\n",
       "      <td>0.293998</td>\n",
       "    </tr>\n",
       "  </tbody>\n",
       "</table>\n",
       "</div>\n",
       "      <button class=\"colab-df-convert\" onclick=\"convertToInteractive('df-286c2527-6e1f-498a-b899-f2632806cf0e')\"\n",
       "              title=\"Convert this dataframe to an interactive table.\"\n",
       "              style=\"display:none;\">\n",
       "        \n",
       "  <svg xmlns=\"http://www.w3.org/2000/svg\" height=\"24px\"viewBox=\"0 0 24 24\"\n",
       "       width=\"24px\">\n",
       "    <path d=\"M0 0h24v24H0V0z\" fill=\"none\"/>\n",
       "    <path d=\"M18.56 5.44l.94 2.06.94-2.06 2.06-.94-2.06-.94-.94-2.06-.94 2.06-2.06.94zm-11 1L8.5 8.5l.94-2.06 2.06-.94-2.06-.94L8.5 2.5l-.94 2.06-2.06.94zm10 10l.94 2.06.94-2.06 2.06-.94-2.06-.94-.94-2.06-.94 2.06-2.06.94z\"/><path d=\"M17.41 7.96l-1.37-1.37c-.4-.4-.92-.59-1.43-.59-.52 0-1.04.2-1.43.59L10.3 9.45l-7.72 7.72c-.78.78-.78 2.05 0 2.83L4 21.41c.39.39.9.59 1.41.59.51 0 1.02-.2 1.41-.59l7.78-7.78 2.81-2.81c.8-.78.8-2.07 0-2.86zM5.41 20L4 18.59l7.72-7.72 1.47 1.35L5.41 20z\"/>\n",
       "  </svg>\n",
       "      </button>\n",
       "      \n",
       "  <style>\n",
       "    .colab-df-container {\n",
       "      display:flex;\n",
       "      flex-wrap:wrap;\n",
       "      gap: 12px;\n",
       "    }\n",
       "\n",
       "    .colab-df-convert {\n",
       "      background-color: #E8F0FE;\n",
       "      border: none;\n",
       "      border-radius: 50%;\n",
       "      cursor: pointer;\n",
       "      display: none;\n",
       "      fill: #1967D2;\n",
       "      height: 32px;\n",
       "      padding: 0 0 0 0;\n",
       "      width: 32px;\n",
       "    }\n",
       "\n",
       "    .colab-df-convert:hover {\n",
       "      background-color: #E2EBFA;\n",
       "      box-shadow: 0px 1px 2px rgba(60, 64, 67, 0.3), 0px 1px 3px 1px rgba(60, 64, 67, 0.15);\n",
       "      fill: #174EA6;\n",
       "    }\n",
       "\n",
       "    [theme=dark] .colab-df-convert {\n",
       "      background-color: #3B4455;\n",
       "      fill: #D2E3FC;\n",
       "    }\n",
       "\n",
       "    [theme=dark] .colab-df-convert:hover {\n",
       "      background-color: #434B5C;\n",
       "      box-shadow: 0px 1px 3px 1px rgba(0, 0, 0, 0.15);\n",
       "      filter: drop-shadow(0px 1px 2px rgba(0, 0, 0, 0.3));\n",
       "      fill: #FFFFFF;\n",
       "    }\n",
       "  </style>\n",
       "\n",
       "      <script>\n",
       "        const buttonEl =\n",
       "          document.querySelector('#df-286c2527-6e1f-498a-b899-f2632806cf0e button.colab-df-convert');\n",
       "        buttonEl.style.display =\n",
       "          google.colab.kernel.accessAllowed ? 'block' : 'none';\n",
       "\n",
       "        async function convertToInteractive(key) {\n",
       "          const element = document.querySelector('#df-286c2527-6e1f-498a-b899-f2632806cf0e');\n",
       "          const dataTable =\n",
       "            await google.colab.kernel.invokeFunction('convertToInteractive',\n",
       "                                                     [key], {});\n",
       "          if (!dataTable) return;\n",
       "\n",
       "          const docLinkHtml = 'Like what you see? Visit the ' +\n",
       "            '<a target=\"_blank\" href=https://colab.research.google.com/notebooks/data_table.ipynb>data table notebook</a>'\n",
       "            + ' to learn more about interactive tables.';\n",
       "          element.innerHTML = '';\n",
       "          dataTable['output_type'] = 'display_data';\n",
       "          await google.colab.output.renderOutput(dataTable, element);\n",
       "          const docLink = document.createElement('div');\n",
       "          docLink.innerHTML = docLinkHtml;\n",
       "          element.appendChild(docLink);\n",
       "        }\n",
       "      </script>\n",
       "    </div>\n",
       "  </div>\n",
       "  "
      ],
      "text/plain": [
       "            Feature Id  Importances\n",
       "0           time_valid    66.462662\n",
       "1       count_of_trips     9.957220\n",
       "2   passenger_category     5.927217\n",
       "3      mean_time_valid     3.489259\n",
       "4       ticket_type_nm     3.467426\n",
       "5       std_time_valid     3.149244\n",
       "6       var_time_valid     3.070278\n",
       "7            day_valid     2.265842\n",
       "8        var_day_valid     0.676823\n",
       "9        std_day_valid     0.632041\n",
       "10          station_id     0.607991\n",
       "11        n_station_id     0.293998"
      ]
     },
     "execution_count": 64,
     "metadata": {},
     "output_type": "execute_result"
    }
   ],
   "source": [
    "model_r.get_feature_importance(prettified=True)"
   ]
  },
  {
   "cell_type": "code",
   "execution_count": null,
   "metadata": {
    "id": "kTjQdDYOHlSR"
   },
   "outputs": [],
   "source": [
    "y_test_r = model_r.predict(X_test)"
   ]
  },
  {
   "cell_type": "code",
   "execution_count": null,
   "metadata": {
    "colab": {
     "base_uri": "https://localhost:8080/",
     "height": 206
    },
    "executionInfo": {
     "elapsed": 876,
     "status": "ok",
     "timestamp": 1669188231764,
     "user": {
      "displayName": "Andrew Lazko",
      "userId": "04969080350981822544"
     },
     "user_tz": -180
    },
    "id": "TZEV6XeyHqy6",
    "outputId": "3a783e41-41c0-4ff1-bf7e-ca2b285f76ae"
   },
   "outputs": [
    {
     "data": {
      "text/html": [
       "\n",
       "  <div id=\"df-5c540147-af53-406a-a0d0-a68ecee40386\">\n",
       "    <div class=\"colab-df-container\">\n",
       "      <div>\n",
       "<style scoped>\n",
       "    .dataframe tbody tr th:only-of-type {\n",
       "        vertical-align: middle;\n",
       "    }\n",
       "\n",
       "    .dataframe tbody tr th {\n",
       "        vertical-align: top;\n",
       "    }\n",
       "\n",
       "    .dataframe thead th {\n",
       "        text-align: right;\n",
       "    }\n",
       "</style>\n",
       "<table border=\"1\" class=\"dataframe\">\n",
       "  <thead>\n",
       "    <tr style=\"text-align: right;\">\n",
       "      <th></th>\n",
       "      <th>id</th>\n",
       "      <th>time_to_under</th>\n",
       "      <th>label</th>\n",
       "    </tr>\n",
       "  </thead>\n",
       "  <tbody>\n",
       "    <tr>\n",
       "      <th>0</th>\n",
       "      <td>1091022</td>\n",
       "      <td>670.860317</td>\n",
       "      <td>11021</td>\n",
       "    </tr>\n",
       "    <tr>\n",
       "      <th>1</th>\n",
       "      <td>1091023</td>\n",
       "      <td>414.223427</td>\n",
       "      <td>11021</td>\n",
       "    </tr>\n",
       "    <tr>\n",
       "      <th>2</th>\n",
       "      <td>1091024</td>\n",
       "      <td>637.343814</td>\n",
       "      <td>11021</td>\n",
       "    </tr>\n",
       "    <tr>\n",
       "      <th>3</th>\n",
       "      <td>1091025</td>\n",
       "      <td>623.011156</td>\n",
       "      <td>11021</td>\n",
       "    </tr>\n",
       "    <tr>\n",
       "      <th>4</th>\n",
       "      <td>1091026</td>\n",
       "      <td>680.783772</td>\n",
       "      <td>11021</td>\n",
       "    </tr>\n",
       "  </tbody>\n",
       "</table>\n",
       "</div>\n",
       "      <button class=\"colab-df-convert\" onclick=\"convertToInteractive('df-5c540147-af53-406a-a0d0-a68ecee40386')\"\n",
       "              title=\"Convert this dataframe to an interactive table.\"\n",
       "              style=\"display:none;\">\n",
       "        \n",
       "  <svg xmlns=\"http://www.w3.org/2000/svg\" height=\"24px\"viewBox=\"0 0 24 24\"\n",
       "       width=\"24px\">\n",
       "    <path d=\"M0 0h24v24H0V0z\" fill=\"none\"/>\n",
       "    <path d=\"M18.56 5.44l.94 2.06.94-2.06 2.06-.94-2.06-.94-.94-2.06-.94 2.06-2.06.94zm-11 1L8.5 8.5l.94-2.06 2.06-.94-2.06-.94L8.5 2.5l-.94 2.06-2.06.94zm10 10l.94 2.06.94-2.06 2.06-.94-2.06-.94-.94-2.06-.94 2.06-2.06.94z\"/><path d=\"M17.41 7.96l-1.37-1.37c-.4-.4-.92-.59-1.43-.59-.52 0-1.04.2-1.43.59L10.3 9.45l-7.72 7.72c-.78.78-.78 2.05 0 2.83L4 21.41c.39.39.9.59 1.41.59.51 0 1.02-.2 1.41-.59l7.78-7.78 2.81-2.81c.8-.78.8-2.07 0-2.86zM5.41 20L4 18.59l7.72-7.72 1.47 1.35L5.41 20z\"/>\n",
       "  </svg>\n",
       "      </button>\n",
       "      \n",
       "  <style>\n",
       "    .colab-df-container {\n",
       "      display:flex;\n",
       "      flex-wrap:wrap;\n",
       "      gap: 12px;\n",
       "    }\n",
       "\n",
       "    .colab-df-convert {\n",
       "      background-color: #E8F0FE;\n",
       "      border: none;\n",
       "      border-radius: 50%;\n",
       "      cursor: pointer;\n",
       "      display: none;\n",
       "      fill: #1967D2;\n",
       "      height: 32px;\n",
       "      padding: 0 0 0 0;\n",
       "      width: 32px;\n",
       "    }\n",
       "\n",
       "    .colab-df-convert:hover {\n",
       "      background-color: #E2EBFA;\n",
       "      box-shadow: 0px 1px 2px rgba(60, 64, 67, 0.3), 0px 1px 3px 1px rgba(60, 64, 67, 0.15);\n",
       "      fill: #174EA6;\n",
       "    }\n",
       "\n",
       "    [theme=dark] .colab-df-convert {\n",
       "      background-color: #3B4455;\n",
       "      fill: #D2E3FC;\n",
       "    }\n",
       "\n",
       "    [theme=dark] .colab-df-convert:hover {\n",
       "      background-color: #434B5C;\n",
       "      box-shadow: 0px 1px 3px 1px rgba(0, 0, 0, 0.15);\n",
       "      filter: drop-shadow(0px 1px 2px rgba(0, 0, 0, 0.3));\n",
       "      fill: #FFFFFF;\n",
       "    }\n",
       "  </style>\n",
       "\n",
       "      <script>\n",
       "        const buttonEl =\n",
       "          document.querySelector('#df-5c540147-af53-406a-a0d0-a68ecee40386 button.colab-df-convert');\n",
       "        buttonEl.style.display =\n",
       "          google.colab.kernel.accessAllowed ? 'block' : 'none';\n",
       "\n",
       "        async function convertToInteractive(key) {\n",
       "          const element = document.querySelector('#df-5c540147-af53-406a-a0d0-a68ecee40386');\n",
       "          const dataTable =\n",
       "            await google.colab.kernel.invokeFunction('convertToInteractive',\n",
       "                                                     [key], {});\n",
       "          if (!dataTable) return;\n",
       "\n",
       "          const docLinkHtml = 'Like what you see? Visit the ' +\n",
       "            '<a target=\"_blank\" href=https://colab.research.google.com/notebooks/data_table.ipynb>data table notebook</a>'\n",
       "            + ' to learn more about interactive tables.';\n",
       "          element.innerHTML = '';\n",
       "          dataTable['output_type'] = 'display_data';\n",
       "          await google.colab.output.renderOutput(dataTable, element);\n",
       "          const docLink = document.createElement('div');\n",
       "          docLink.innerHTML = docLinkHtml;\n",
       "          element.appendChild(docLink);\n",
       "        }\n",
       "      </script>\n",
       "    </div>\n",
       "  </div>\n",
       "  "
      ],
      "text/plain": [
       "        id  time_to_under  label\n",
       "0  1091022     670.860317  11021\n",
       "1  1091023     414.223427  11021\n",
       "2  1091024     637.343814  11021\n",
       "3  1091025     623.011156  11021\n",
       "4  1091026     680.783772  11021"
      ]
     },
     "metadata": {},
     "output_type": "display_data"
    }
   ],
   "source": [
    "solution = pd.DataFrame(y_test_r, index=X_test.index, columns=['time_to_under']).reset_index()\n",
    "\n",
    "solution['label'] = y_test_c\n",
    "display(solution.head())\n",
    "\n",
    "#display(X_test.head())\n",
    "\n",
    "solution.to_csv(\"/content/drive/MyDrive/amur/amur_test2.csv\",sep=\",\", index=False, line_terminator='\\n')"
   ]
  },
  {
   "cell_type": "code",
   "execution_count": null,
   "metadata": {
    "colab": {
     "base_uri": "https://localhost:8080/"
    },
    "executionInfo": {
     "elapsed": 4,
     "status": "ok",
     "timestamp": 1669188294331,
     "user": {
      "displayName": "Andrew Lazko",
      "userId": "04969080350981822544"
     },
     "user_tz": -180
    },
    "id": "3qzuGW0hxWzk",
    "outputId": "82c2a03b-4e00-4a9a-ec33-14c745b25eea"
   },
   "outputs": [
    {
     "data": {
      "text/plain": [
       "(561890, 3)"
      ]
     },
     "execution_count": 68,
     "metadata": {},
     "output_type": "execute_result"
    }
   ],
   "source": [
    "solution.shape"
   ]
  },
  {
   "cell_type": "markdown",
   "metadata": {
    "id": "PRRoBfguBnYo"
   },
   "source": [
    "На доске дало 0.293 - движемся правильно"
   ]
  },
  {
   "cell_type": "markdown",
   "metadata": {
    "id": "Iiqhgt6QE0lU"
   },
   "source": [
    "## 2 этап, подбор"
   ]
  },
  {
   "cell_type": "markdown",
   "metadata": {},
   "source": [
    "### Регрессия"
   ]
  },
  {
   "cell_type": "code",
   "execution_count": null,
   "metadata": {
    "id": "wfI-kh8Gc91U"
   },
   "outputs": [],
   "source": [
    "def objective(trial, X_train=X_train2, X_valid=X_valid2, y_train=y_train2, y_valid = y_valid2, cat_cols=cat_cols):\n",
    "    learn_pool = Pool(\n",
    "        X_train, \n",
    "        y_train, \n",
    "        cat_features=cat_cols,\n",
    "        feature_names=list(X_train)\n",
    "    )\n",
    "    valid_pool = Pool(\n",
    "        X_valid, \n",
    "        y_valid, \n",
    "        cat_features=cat_cols,\n",
    "        feature_names=list(X_train)\n",
    "    )\n",
    "    param = {\n",
    "        #'cat_features': cat_cols,\n",
    "        'one_hot_max_size': 10,\n",
    "        'verbose': False,\n",
    "        #'loss_function': 'Logloss',\n",
    "        'task_type': 'GPU',\n",
    "        'gpu_ram_part': 0.96,\n",
    "        'loss_function': trial.suggest_categorical(\"los_function\", ['RMSE']),\n",
    "        #'auto_class_weights': trial.suggest_categorical(\"auto_class_weights\", [\"Balanced\"]),\n",
    "        #\"objective\": trial.suggest_categorical(\"objective\", [\"Logloss\"]),\n",
    "        #\"colsample_bylevel\": trial.suggest_float(\"colsample_bylevel\", 0.01, 0.1, log=True),\n",
    "        'l2_leaf_reg': trial.suggest_float('l2_leaf_reg', 0.001, 9),\n",
    "        # \"boosting_type\": trial.suggest_categorical(\"boosting_type\", [\"Ordered\", \"Plain\"]),\n",
    "        \"bootstrap_type\": trial.suggest_categorical(\"bootstrap_type\", [\"Bernoulli\"]),#\"Bayesian\", \"MVS\"]),\n",
    "        'learning_rate': trial.suggest_float('learning_rate', 0.01, 0.1),\n",
    "        'n_estimators':  trial.suggest_int('n_estimators', 150, 2000),\n",
    "        'max_depth': trial.suggest_categorical('max_depth', [4, 5 ,6, 7, 8, 9, 10, 11, 12,\n",
    "                                                             13, 14, 15, 16]),\n",
    "        'random_state': trial.suggest_categorical('random_state', [11]),\n",
    "        'min_data_in_leaf': trial.suggest_int('min_data_in_leaf', 1, 100),\n",
    "        #'min_child_weight': trial.suggest_int('min_child_weight', 1, 300),\n",
    "        #'lambda': trial.suggest_loguniform('lambda', 1e-3, 10.0),\n",
    "        #'alpha': trial.suggest_loguniform('alpha', 1e-3, 10.0)\n",
    "    }\n",
    "\n",
    "\n",
    "    if param[\"bootstrap_type\"] == \"Bayesian\":\n",
    "        param[\"bagging_temperature\"] = trial.suggest_float(\"bagging_temperature\", 0, 10)\n",
    "    elif param[\"bootstrap_type\"] == \"Bernoulli\":\n",
    "        param[\"subsample\"] = trial.suggest_float(\"subsample\", 0.1, 1, log=True)\n",
    "    \n",
    "    #cv=StratifiedKFold(n_splits=5, random_state=23071983, shuffle=True)\n",
    "    \n",
    "    model = CatBoostRegressor(**param)  \n",
    "    model.fit(learn_pool, eval_set=valid_pool, early_stopping_rounds=99, verbose=False)\n",
    "    preds = model.predict(X_valid)\n",
    "    score = my_score_func_r(y_valid, preds)\n",
    "    \n",
    "    return score #cross_val_score(model, X_train, y_train,cv=cv,scoring=my_scorer, verbose=False).mean()"
   ]
  },
  {
   "cell_type": "code",
   "execution_count": null,
   "metadata": {
    "colab": {
     "base_uri": "https://localhost:8080/"
    },
    "executionInfo": {
     "elapsed": 88542,
     "status": "ok",
     "timestamp": 1669207147728,
     "user": {
      "displayName": "Andrew Lazko",
      "userId": "04969080350981822544"
     },
     "user_tz": -180
    },
    "id": "rrcEJvN1f6a5",
    "outputId": "105f2e73-1ed9-43dc-98c5-cb0ee5e2777b",
    "scrolled": true
   },
   "outputs": [
    {
     "name": "stderr",
     "output_type": "stream",
     "text": [
      "\u001b[32m[I 2022-11-23 08:16:40,056]\u001b[0m A new study created in memory with name: no-name-d68f1a4a-2465-4a73-a0f2-7d8a304b2b80\u001b[0m\n",
      "\u001b[32m[I 2022-11-23 08:17:43,817]\u001b[0m Trial 0 finished with value: 0.5817048881582194 and parameters: {'los_function': 'RMSE', 'l2_leaf_reg': 3.991445150139619, 'bootstrap_type': 'Bernoulli', 'learning_rate': 0.08062441599401791, 'n_estimators': 1406, 'max_depth': 5, 'random_state': 11, 'min_data_in_leaf': 68, 'subsample': 0.30035681540004877}. Best is trial 0 with value: 0.5817048881582194.\u001b[0m\n",
      "\u001b[32m[I 2022-11-23 08:18:53,187]\u001b[0m Trial 1 finished with value: 0.582739015067298 and parameters: {'los_function': 'RMSE', 'l2_leaf_reg': 8.794936933970988, 'bootstrap_type': 'Bernoulli', 'learning_rate': 0.042746627376066, 'n_estimators': 437, 'max_depth': 12, 'random_state': 11, 'min_data_in_leaf': 22, 'subsample': 0.15236564887173396}. Best is trial 1 with value: 0.582739015067298.\u001b[0m\n",
      "\u001b[32m[I 2022-11-23 08:30:06,689]\u001b[0m Trial 2 finished with value: 0.5924111317506984 and parameters: {'los_function': 'RMSE', 'l2_leaf_reg': 7.353891232100645, 'bootstrap_type': 'Bernoulli', 'learning_rate': 0.058853821855361074, 'n_estimators': 799, 'max_depth': 16, 'random_state': 11, 'min_data_in_leaf': 94, 'subsample': 0.35669973175945907}. Best is trial 2 with value: 0.5924111317506984.\u001b[0m\n",
      "\u001b[32m[I 2022-11-23 08:30:46,812]\u001b[0m Trial 3 finished with value: 0.575712707895844 and parameters: {'los_function': 'RMSE', 'l2_leaf_reg': 4.805284380134241, 'bootstrap_type': 'Bernoulli', 'learning_rate': 0.025512026497441456, 'n_estimators': 735, 'max_depth': 6, 'random_state': 11, 'min_data_in_leaf': 22, 'subsample': 0.38642161490950205}. Best is trial 2 with value: 0.5924111317506984.\u001b[0m\n",
      "\u001b[32m[I 2022-11-23 08:35:02,418]\u001b[0m Trial 4 finished with value: 0.597859669789655 and parameters: {'los_function': 'RMSE', 'l2_leaf_reg': 8.167978370536762, 'bootstrap_type': 'Bernoulli', 'learning_rate': 0.08929991907175781, 'n_estimators': 1155, 'max_depth': 13, 'random_state': 11, 'min_data_in_leaf': 12, 'subsample': 0.7054493409973858}. Best is trial 4 with value: 0.597859669789655.\u001b[0m\n",
      "\u001b[32m[I 2022-11-23 08:36:38,206]\u001b[0m Trial 5 finished with value: 0.5884710512261069 and parameters: {'los_function': 'RMSE', 'l2_leaf_reg': 6.1129160603384625, 'bootstrap_type': 'Bernoulli', 'learning_rate': 0.07060988181820536, 'n_estimators': 899, 'max_depth': 10, 'random_state': 11, 'min_data_in_leaf': 80, 'subsample': 0.42044249085599256}. Best is trial 4 with value: 0.597859669789655.\u001b[0m\n",
      "\u001b[32m[I 2022-11-23 08:37:58,857]\u001b[0m Trial 6 finished with value: 0.5827982690411049 and parameters: {'los_function': 'RMSE', 'l2_leaf_reg': 5.985629304417808, 'bootstrap_type': 'Bernoulli', 'learning_rate': 0.07324285963146235, 'n_estimators': 1513, 'max_depth': 6, 'random_state': 11, 'min_data_in_leaf': 50, 'subsample': 0.17132788951586905}. Best is trial 4 with value: 0.597859669789655.\u001b[0m\n",
      "\u001b[32m[I 2022-11-23 08:40:12,640]\u001b[0m Trial 7 finished with value: 0.5870309961549417 and parameters: {'los_function': 'RMSE', 'l2_leaf_reg': 8.374092428249439, 'bootstrap_type': 'Bernoulli', 'learning_rate': 0.05047014816071935, 'n_estimators': 1493, 'max_depth': 9, 'random_state': 11, 'min_data_in_leaf': 72, 'subsample': 0.26069441326759263}. Best is trial 4 with value: 0.597859669789655.\u001b[0m\n",
      "\u001b[32m[I 2022-11-23 08:42:13,573]\u001b[0m Trial 8 finished with value: 0.5879133982955924 and parameters: {'los_function': 'RMSE', 'l2_leaf_reg': 1.2979744879075492, 'bootstrap_type': 'Bernoulli', 'learning_rate': 0.03533099518340022, 'n_estimators': 756, 'max_depth': 12, 'random_state': 11, 'min_data_in_leaf': 41, 'subsample': 0.5134679169849499}. Best is trial 4 with value: 0.597859669789655.\u001b[0m\n",
      "\u001b[32m[I 2022-11-23 08:59:29,259]\u001b[0m Trial 9 finished with value: 0.5979843456683429 and parameters: {'los_function': 'RMSE', 'l2_leaf_reg': 2.7001145740071806, 'bootstrap_type': 'Bernoulli', 'learning_rate': 0.09344465693021026, 'n_estimators': 1278, 'max_depth': 16, 'random_state': 11, 'min_data_in_leaf': 90, 'subsample': 0.5781582792915415}. Best is trial 9 with value: 0.5979843456683429.\u001b[0m\n",
      "\u001b[32m[I 2022-11-23 09:02:17,396]\u001b[0m Trial 10 finished with value: 0.5946703852728863 and parameters: {'los_function': 'RMSE', 'l2_leaf_reg': 0.12168896342027224, 'bootstrap_type': 'Bernoulli', 'learning_rate': 0.09470813939377158, 'n_estimators': 1928, 'max_depth': 8, 'random_state': 11, 'min_data_in_leaf': 92, 'subsample': 0.9622881414972075}. Best is trial 9 with value: 0.5979843456683429.\u001b[0m\n",
      "\u001b[32m[I 2022-11-23 09:06:44,549]\u001b[0m Trial 11 finished with value: 0.6005333835740403 and parameters: {'los_function': 'RMSE', 'l2_leaf_reg': 2.749141577938824, 'bootstrap_type': 'Bernoulli', 'learning_rate': 0.09958727980546349, 'n_estimators': 1194, 'max_depth': 13, 'random_state': 11, 'min_data_in_leaf': 5, 'subsample': 0.8109960315346301}. Best is trial 11 with value: 0.6005333835740403.\u001b[0m\n",
      "\u001b[32m[I 2022-11-23 09:24:02,210]\u001b[0m Trial 12 finished with value: 0.5995257335118858 and parameters: {'los_function': 'RMSE', 'l2_leaf_reg': 2.752708397890007, 'bootstrap_type': 'Bernoulli', 'learning_rate': 0.09955398081822339, 'n_estimators': 1192, 'max_depth': 16, 'random_state': 11, 'min_data_in_leaf': 1, 'subsample': 0.6680631198073378}. Best is trial 11 with value: 0.6005333835740403.\u001b[0m\n",
      "\u001b[32m[I 2022-11-23 09:31:16,084]\u001b[0m Trial 13 finished with value: 0.6058040378863789 and parameters: {'los_function': 'RMSE', 'l2_leaf_reg': 2.603178111556142, 'bootstrap_type': 'Bernoulli', 'learning_rate': 0.09938974176155028, 'n_estimators': 1884, 'max_depth': 13, 'random_state': 11, 'min_data_in_leaf': 1, 'subsample': 0.9610638167826284}. Best is trial 13 with value: 0.6058040378863789.\u001b[0m\n",
      "\u001b[32m[I 2022-11-23 09:37:45,250]\u001b[0m Trial 14 finished with value: 0.6048349708761389 and parameters: {'los_function': 'RMSE', 'l2_leaf_reg': 2.4681069041710377, 'bootstrap_type': 'Bernoulli', 'learning_rate': 0.07901605047006356, 'n_estimators': 1722, 'max_depth': 13, 'random_state': 11, 'min_data_in_leaf': 33, 'subsample': 0.9990700317213141}. Best is trial 13 with value: 0.6058040378863789.\u001b[0m\n",
      "\u001b[32m[I 2022-11-23 09:44:54,682]\u001b[0m Trial 15 finished with value: 0.6070569669981238 and parameters: {'los_function': 'RMSE', 'l2_leaf_reg': 1.1861471510622876, 'bootstrap_type': 'Bernoulli', 'learning_rate': 0.07958600472584267, 'n_estimators': 1881, 'max_depth': 13, 'random_state': 11, 'min_data_in_leaf': 35, 'subsample': 0.9943290956143191}. Best is trial 15 with value: 0.6070569669981238.\u001b[0m\n",
      "\u001b[32m[I 2022-11-23 09:51:41,486]\u001b[0m Trial 16 finished with value: 0.5907268562034044 and parameters: {'los_function': 'RMSE', 'l2_leaf_reg': 0.47733763165209675, 'bootstrap_type': 'Bernoulli', 'learning_rate': 0.06219907498624192, 'n_estimators': 1993, 'max_depth': 14, 'random_state': 11, 'min_data_in_leaf': 28, 'subsample': 0.20871663464872203}. Best is trial 15 with value: 0.6070569669981238.\u001b[0m\n",
      "\u001b[32m[I 2022-11-23 09:52:39,629]\u001b[0m Trial 17 finished with value: 0.5812165390655233 and parameters: {'los_function': 'RMSE', 'l2_leaf_reg': 1.4022471906600114, 'bootstrap_type': 'Bernoulli', 'learning_rate': 0.08359664707150921, 'n_estimators': 1723, 'max_depth': 4, 'random_state': 11, 'min_data_in_leaf': 56, 'subsample': 0.5500733273818527}. Best is trial 15 with value: 0.6070569669981238.\u001b[0m\n",
      "\u001b[32m[I 2022-11-23 10:06:49,613]\u001b[0m Trial 18 finished with value: 0.587853097324389 and parameters: {'los_function': 'RMSE', 'l2_leaf_reg': 3.809330812232633, 'bootstrap_type': 'Bernoulli', 'learning_rate': 0.013210396293363257, 'n_estimators': 1773, 'max_depth': 15, 'random_state': 11, 'min_data_in_leaf': 14, 'subsample': 0.10669370065155831}. Best is trial 15 with value: 0.6070569669981238.\u001b[0m\n",
      "\u001b[32m[I 2022-11-23 10:07:27,718]\u001b[0m Trial 19 finished with value: 0.5844932354058199 and parameters: {'los_function': 'RMSE', 'l2_leaf_reg': 1.5300989130157616, 'bootstrap_type': 'Bernoulli', 'learning_rate': 0.06677896061724817, 'n_estimators': 290, 'max_depth': 11, 'random_state': 11, 'min_data_in_leaf': 41, 'subsample': 0.7894493731694016}. Best is trial 15 with value: 0.6070569669981238.\u001b[0m\n",
      "\u001b[32m[I 2022-11-23 10:09:14,277]\u001b[0m Trial 20 finished with value: 0.5877137501972138 and parameters: {'los_function': 'RMSE', 'l2_leaf_reg': 4.683506058942437, 'bootstrap_type': 'Bernoulli', 'learning_rate': 0.08759079273802721, 'n_estimators': 1611, 'max_depth': 7, 'random_state': 11, 'min_data_in_leaf': 56, 'subsample': 0.47309497295931774}. Best is trial 15 with value: 0.6070569669981238.\u001b[0m\n",
      "\u001b[32m[I 2022-11-23 10:16:05,933]\u001b[0m Trial 21 finished with value: 0.6053419408553129 and parameters: {'los_function': 'RMSE', 'l2_leaf_reg': 2.1217566123355156, 'bootstrap_type': 'Bernoulli', 'learning_rate': 0.07806050112068057, 'n_estimators': 1810, 'max_depth': 13, 'random_state': 11, 'min_data_in_leaf': 37, 'subsample': 0.9750464343216527}. Best is trial 15 with value: 0.6070569669981238.\u001b[0m\n",
      "\u001b[32m[I 2022-11-23 10:23:08,771]\u001b[0m Trial 22 finished with value: 0.606035906442513 and parameters: {'los_function': 'RMSE', 'l2_leaf_reg': 1.99138135013349, 'bootstrap_type': 'Bernoulli', 'learning_rate': 0.07402318627323183, 'n_estimators': 1857, 'max_depth': 13, 'random_state': 11, 'min_data_in_leaf': 40, 'subsample': 0.9934814503474834}. Best is trial 15 with value: 0.6070569669981238.\u001b[0m\n",
      "\u001b[32m[I 2022-11-23 10:30:30,450]\u001b[0m Trial 23 finished with value: 0.6027790739933028 and parameters: {'los_function': 'RMSE', 'l2_leaf_reg': 0.7861897340440649, 'bootstrap_type': 'Bernoulli', 'learning_rate': 0.05515006393579877, 'n_estimators': 1999, 'max_depth': 13, 'random_state': 11, 'min_data_in_leaf': 48, 'subsample': 0.8119487094081407}. Best is trial 15 with value: 0.6070569669981238.\u001b[0m\n",
      "\u001b[32m[I 2022-11-23 10:37:12,093]\u001b[0m Trial 24 finished with value: 0.5993787670176063 and parameters: {'los_function': 'RMSE', 'l2_leaf_reg': 3.529606427411844, 'bootstrap_type': 'Bernoulli', 'learning_rate': 0.07458133569720869, 'n_estimators': 1839, 'max_depth': 13, 'random_state': 11, 'min_data_in_leaf': 25, 'subsample': 0.6565607037718032}. Best is trial 15 with value: 0.6070569669981238.\u001b[0m\n",
      "\u001b[32m[I 2022-11-23 10:43:11,899]\u001b[0m Trial 25 finished with value: 0.6025929812657954 and parameters: {'los_function': 'RMSE', 'l2_leaf_reg': 1.8802721156744406, 'bootstrap_type': 'Bernoulli', 'learning_rate': 0.06633701632198828, 'n_estimators': 1631, 'max_depth': 13, 'random_state': 11, 'min_data_in_leaf': 15, 'subsample': 0.8364371085343651}. Best is trial 15 with value: 0.6070569669981238.\u001b[0m\n",
      "\u001b[32m[I 2022-11-23 10:43:55,852]\u001b[0m Trial 26 finished with value: 0.5806186802178295 and parameters: {'los_function': 'RMSE', 'l2_leaf_reg': 3.2369343327130973, 'bootstrap_type': 'Bernoulli', 'learning_rate': 0.08875753758210908, 'n_estimators': 1324, 'max_depth': 4, 'random_state': 11, 'min_data_in_leaf': 60, 'subsample': 0.6230356780379102}. Best is trial 15 with value: 0.6070569669981238.\u001b[0m\n",
      "\u001b[32m[I 2022-11-23 10:46:08,124]\u001b[0m Trial 27 finished with value: 0.5915715758383158 and parameters: {'los_function': 'RMSE', 'l2_leaf_reg': 0.8809576267440531, 'bootstrap_type': 'Bernoulli', 'learning_rate': 0.08408428665021908, 'n_estimators': 1614, 'max_depth': 8, 'random_state': 11, 'min_data_in_leaf': 32, 'subsample': 0.7459680352633584}. Best is trial 15 with value: 0.6070569669981238.\u001b[0m\n",
      "\u001b[32m[I 2022-11-23 10:47:28,762]\u001b[0m Trial 28 finished with value: 0.5836635538053483 and parameters: {'los_function': 'RMSE', 'l2_leaf_reg': 0.04437041572479061, 'bootstrap_type': 'Bernoulli', 'learning_rate': 0.051305540107128615, 'n_estimators': 1852, 'max_depth': 5, 'random_state': 11, 'min_data_in_leaf': 45, 'subsample': 0.8924880928041363}. Best is trial 15 with value: 0.6070569669981238.\u001b[0m\n",
      "\u001b[32m[I 2022-11-23 10:53:05,741]\u001b[0m Trial 29 finished with value: 0.5920966947351978 and parameters: {'los_function': 'RMSE', 'l2_leaf_reg': 4.030699843905102, 'bootstrap_type': 'Bernoulli', 'learning_rate': 0.08071261071864282, 'n_estimators': 1412, 'max_depth': 14, 'random_state': 11, 'min_data_in_leaf': 65, 'subsample': 0.3102689828619309}. Best is trial 15 with value: 0.6070569669981238.\u001b[0m\n",
      "\u001b[32m[I 2022-11-23 10:55:42,767]\u001b[0m Trial 30 finished with value: 0.5922427285245653 and parameters: {'los_function': 'RMSE', 'l2_leaf_reg': 5.423688130071854, 'bootstrap_type': 'Bernoulli', 'learning_rate': 0.09571475319547146, 'n_estimators': 1489, 'max_depth': 10, 'random_state': 11, 'min_data_in_leaf': 10, 'subsample': 0.4763460521463576}. Best is trial 15 with value: 0.6070569669981238.\u001b[0m\n",
      "\u001b[32m[I 2022-11-23 11:02:45,176]\u001b[0m Trial 31 finished with value: 0.6057979739490386 and parameters: {'los_function': 'RMSE', 'l2_leaf_reg': 2.4264308160630974, 'bootstrap_type': 'Bernoulli', 'learning_rate': 0.07759143950167334, 'n_estimators': 1853, 'max_depth': 13, 'random_state': 11, 'min_data_in_leaf': 39, 'subsample': 0.9849600543308769}. Best is trial 15 with value: 0.6070569669981238.\u001b[0m\n",
      "\u001b[32m[I 2022-11-23 11:09:50,870]\u001b[0m Trial 32 finished with value: 0.6053265110595358 and parameters: {'los_function': 'RMSE', 'l2_leaf_reg': 1.927824124570475, 'bootstrap_type': 'Bernoulli', 'learning_rate': 0.06838500925652566, 'n_estimators': 1888, 'max_depth': 13, 'random_state': 11, 'min_data_in_leaf': 19, 'subsample': 0.997960035339358}. Best is trial 15 with value: 0.6070569669981238.\u001b[0m\n",
      "\u001b[32m[I 2022-11-23 11:13:19,344]\u001b[0m Trial 33 finished with value: 0.5964273798834814 and parameters: {'los_function': 'RMSE', 'l2_leaf_reg': 3.0323527693613004, 'bootstrap_type': 'Bernoulli', 'learning_rate': 0.07589724206122923, 'n_estimators': 964, 'max_depth': 13, 'random_state': 11, 'min_data_in_leaf': 31, 'subsample': 0.7136340073286095}. Best is trial 15 with value: 0.6070569669981238.\u001b[0m\n",
      "\u001b[32m[I 2022-11-23 11:14:08,609]\u001b[0m Trial 34 finished with value: 0.5860203820317498 and parameters: {'los_function': 'RMSE', 'l2_leaf_reg': 1.1294271804759501, 'bootstrap_type': 'Bernoulli', 'learning_rate': 0.060876686625182475, 'n_estimators': 536, 'max_depth': 9, 'random_state': 11, 'min_data_in_leaf': 37, 'subsample': 0.8735343056148568}. Best is trial 15 with value: 0.6070569669981238.\u001b[0m\n",
      "\u001b[32m[I 2022-11-23 11:16:03,125]\u001b[0m Trial 35 finished with value: 0.5894099016646812 and parameters: {'los_function': 'RMSE', 'l2_leaf_reg': 2.2768063421182876, 'bootstrap_type': 'Bernoulli', 'learning_rate': 0.08683214270065015, 'n_estimators': 1680, 'max_depth': 7, 'random_state': 11, 'min_data_in_leaf': 21, 'subsample': 0.7520752695070549}. Best is trial 15 with value: 0.6070569669981238.\u001b[0m\n",
      "\u001b[32m[I 2022-11-23 11:20:08,690]\u001b[0m Trial 36 finished with value: 0.5950909071790571 and parameters: {'los_function': 'RMSE', 'l2_leaf_reg': 1.673785997669096, 'bootstrap_type': 'Bernoulli', 'learning_rate': 0.04621344343953906, 'n_estimators': 1914, 'max_depth': 11, 'random_state': 11, 'min_data_in_leaf': 43, 'subsample': 0.6042412168593119}. Best is trial 15 with value: 0.6070569669981238.\u001b[0m\n",
      "\u001b[32m[I 2022-11-23 11:21:16,189]\u001b[0m Trial 37 finished with value: 0.5840012395845486 and parameters: {'los_function': 'RMSE', 'l2_leaf_reg': 4.063684346999188, 'bootstrap_type': 'Bernoulli', 'learning_rate': 0.07195461418250824, 'n_estimators': 1553, 'max_depth': 5, 'random_state': 11, 'min_data_in_leaf': 74, 'subsample': 0.8938291323820136}. Best is trial 15 with value: 0.6070569669981238.\u001b[0m\n",
      "\u001b[32m[I 2022-11-23 11:26:00,490]\u001b[0m Trial 38 finished with value: 0.5888405886893302 and parameters: {'los_function': 'RMSE', 'l2_leaf_reg': 0.6411472456862584, 'bootstrap_type': 'Bernoulli', 'learning_rate': 0.09179349847088457, 'n_estimators': 1768, 'max_depth': 15, 'random_state': 11, 'min_data_in_leaf': 54, 'subsample': 0.25444722209904636}. Best is trial 15 with value: 0.6070569669981238.\u001b[0m\n",
      "\u001b[32m[I 2022-11-23 11:31:07,207]\u001b[0m Trial 39 finished with value: 0.5931062239171223 and parameters: {'los_function': 'RMSE', 'l2_leaf_reg': 7.035818178641227, 'bootstrap_type': 'Bernoulli', 'learning_rate': 0.08283400005939909, 'n_estimators': 2000, 'max_depth': 12, 'random_state': 11, 'min_data_in_leaf': 7, 'subsample': 0.3776568223258465}. Best is trial 15 with value: 0.6070569669981238.\u001b[0m\n",
      "\u001b[32m[I 2022-11-23 11:31:40,870]\u001b[0m Trial 40 finished with value: 0.5754267233764808 and parameters: {'los_function': 'RMSE', 'l2_leaf_reg': 3.372297050077302, 'bootstrap_type': 'Bernoulli', 'learning_rate': 0.03573975729651568, 'n_estimators': 619, 'max_depth': 6, 'random_state': 11, 'min_data_in_leaf': 100, 'subsample': 0.12833429651214054}. Best is trial 15 with value: 0.6070569669981238.\u001b[0m\n",
      "\u001b[32m[I 2022-11-23 11:38:26,771]\u001b[0m Trial 41 finished with value: 0.6047339194054668 and parameters: {'los_function': 'RMSE', 'l2_leaf_reg': 2.0998364610895455, 'bootstrap_type': 'Bernoulli', 'learning_rate': 0.07903475495523975, 'n_estimators': 1806, 'max_depth': 13, 'random_state': 11, 'min_data_in_leaf': 35, 'subsample': 0.8972607343333442}. Best is trial 15 with value: 0.6070569669981238.\u001b[0m\n",
      "\u001b[32m[I 2022-11-23 11:45:34,964]\u001b[0m Trial 42 finished with value: 0.6061168314614203 and parameters: {'los_function': 'RMSE', 'l2_leaf_reg': 2.456385836812601, 'bootstrap_type': 'Bernoulli', 'learning_rate': 0.07631689283670426, 'n_estimators': 1877, 'max_depth': 13, 'random_state': 11, 'min_data_in_leaf': 39, 'subsample': 0.9950667020375148}. Best is trial 15 with value: 0.6070569669981238.\u001b[0m\n",
      "\u001b[32m[I 2022-11-23 11:52:39,497]\u001b[0m Trial 43 finished with value: 0.6037513766573659 and parameters: {'los_function': 'RMSE', 'l2_leaf_reg': 2.9739973689282815, 'bootstrap_type': 'Bernoulli', 'learning_rate': 0.06267096342324946, 'n_estimators': 1902, 'max_depth': 13, 'random_state': 11, 'min_data_in_leaf': 48, 'subsample': 0.8915842816114327}. Best is trial 15 with value: 0.6070569669981238.\u001b[0m\n",
      "\u001b[32m[I 2022-11-23 11:58:47,938]\u001b[0m Trial 44 finished with value: 0.6005323168629739 and parameters: {'los_function': 'RMSE', 'l2_leaf_reg': 1.1763557155573752, 'bootstrap_type': 'Bernoulli', 'learning_rate': 0.0709706982213971, 'n_estimators': 1704, 'max_depth': 13, 'random_state': 11, 'min_data_in_leaf': 25, 'subsample': 0.7109690103262742}. Best is trial 15 with value: 0.6070569669981238.\u001b[0m\n",
      "\u001b[32m[I 2022-11-23 12:05:55,508]\u001b[0m Trial 45 finished with value: 0.6021228508732959 and parameters: {'los_function': 'RMSE', 'l2_leaf_reg': 5.149661597179522, 'bootstrap_type': 'Bernoulli', 'learning_rate': 0.0750050837939469, 'n_estimators': 1931, 'max_depth': 13, 'random_state': 11, 'min_data_in_leaf': 62, 'subsample': 0.7753998832133346}. Best is trial 15 with value: 0.6070569669981238.\u001b[0m\n",
      "\u001b[32m[I 2022-11-23 12:08:29,538]\u001b[0m Trial 46 finished with value: 0.5939578370291679 and parameters: {'los_function': 'RMSE', 'l2_leaf_reg': 2.468825839855495, 'bootstrap_type': 'Bernoulli', 'learning_rate': 0.056239631930403065, 'n_estimators': 1375, 'max_depth': 10, 'random_state': 11, 'min_data_in_leaf': 38, 'subsample': 0.9971303734455882}. Best is trial 15 with value: 0.6070569669981238.\u001b[0m\n",
      "\u001b[32m[I 2022-11-23 12:14:10,573]\u001b[0m Trial 47 finished with value: 0.598954353690403 and parameters: {'los_function': 'RMSE', 'l2_leaf_reg': 4.365759762989798, 'bootstrap_type': 'Bernoulli', 'learning_rate': 0.0974863247174115, 'n_estimators': 1571, 'max_depth': 13, 'random_state': 11, 'min_data_in_leaf': 29, 'subsample': 0.6644827084732318}. Best is trial 15 with value: 0.6070569669981238.\u001b[0m\n",
      "\u001b[32m[I 2022-11-23 12:30:03,835]\u001b[0m Trial 48 finished with value: 0.5959780675930779 and parameters: {'los_function': 'RMSE', 'l2_leaf_reg': 0.3992982470780968, 'bootstrap_type': 'Bernoulli', 'learning_rate': 0.09331644941323822, 'n_estimators': 1683, 'max_depth': 16, 'random_state': 11, 'min_data_in_leaf': 51, 'subsample': 0.542493547160278}. Best is trial 15 with value: 0.6070569669981238.\u001b[0m\n",
      "\u001b[32m[I 2022-11-23 12:32:27,601]\u001b[0m Trial 49 finished with value: 0.5942471245521911 and parameters: {'los_function': 'RMSE', 'l2_leaf_reg': 2.588458807184262, 'bootstrap_type': 'Bernoulli', 'learning_rate': 0.08414874492713866, 'n_estimators': 1458, 'max_depth': 9, 'random_state': 11, 'min_data_in_leaf': 45, 'subsample': 0.8339945457534461}. Best is trial 15 with value: 0.6070569669981238.\u001b[0m\n",
      "\u001b[32m[I 2022-11-23 12:39:07,170]\u001b[0m Trial 50 finished with value: 0.6051375970016374 and parameters: {'los_function': 'RMSE', 'l2_leaf_reg': 1.5564273193652736, 'bootstrap_type': 'Bernoulli', 'learning_rate': 0.06420459921436254, 'n_estimators': 1764, 'max_depth': 13, 'random_state': 11, 'min_data_in_leaf': 83, 'subsample': 0.9483609909250945}. Best is trial 15 with value: 0.6070569669981238.\u001b[0m\n"
     ]
    },
    {
     "name": "stdout",
     "output_type": "stream",
     "text": [
      "Number of finished trials: 51\n",
      "Best trial: {'los_function': 'RMSE', 'l2_leaf_reg': 1.1861471510622876, 'bootstrap_type': 'Bernoulli', 'learning_rate': 0.07958600472584267, 'n_estimators': 1881, 'max_depth': 13, 'random_state': 11, 'min_data_in_leaf': 35, 'subsample': 0.9943290956143191}\n"
     ]
    },
    {
     "data": {
      "text/plain": [
       "0.6070569669981238"
      ]
     },
     "execution_count": 116,
     "metadata": {},
     "output_type": "execute_result"
    }
   ],
   "source": [
    "study = optuna.create_study(direction='maximize', pruner=optuna.pruners.  (n_warmup_steps=9))\n",
    "study.optimize(objective, n_trials=3333, timeout=15372)\n",
    "print('Number of finished trials:', len(study.trials))\n",
    "print('Best trial:', study.best_trial.params)\n",
    "study.best_value"
   ]
  },
  {
   "cell_type": "markdown",
   "metadata": {
    "id": "QwVR3P2WhDXf"
   },
   "source": [
    "Number of finished trials: 51\n",
    "Best trial: {'los_function': 'RMSE', 'l2_leaf_reg': 1.1861471510622876, 'bootstrap_type': 'Bernoulli', 'learning_rate': 0.07958600472584267, 'n_estimators': 1881, 'max_depth': 13, 'random_state': 11, 'min_data_in_leaf': 35, 'subsample': 0.9943290956143191}\n",
    "0.6070569669981238"
   ]
  },
  {
   "cell_type": "code",
   "execution_count": 59,
   "metadata": {
    "executionInfo": {
     "elapsed": 715,
     "status": "ok",
     "timestamp": 1669218451646,
     "user": {
      "displayName": "Andrew Lazko",
      "userId": "04969080350981822544"
     },
     "user_tz": -180
    },
    "id": "Ln8qLoSQEjuk"
   },
   "outputs": [],
   "source": [
    "X_full = df.copy()\n",
    "y_c = X_full.label\n",
    "y_r = X_full.time_to_under\n",
    "X_full.drop(['label', 'time_to_under', 'ticket_id'], axis=1, inplace=True, errors='ignore')"
   ]
  },
  {
   "cell_type": "code",
   "execution_count": 60,
   "metadata": {
    "colab": {
     "base_uri": "https://localhost:8080/"
    },
    "executionInfo": {
     "elapsed": 3,
     "status": "ok",
     "timestamp": 1669218452865,
     "user": {
      "displayName": "Andrew Lazko",
      "userId": "04969080350981822544"
     },
     "user_tz": -180
    },
    "id": "GQx7mKniF3_v",
    "outputId": "f33d20c6-632d-4bc9-b9cb-35b8edcad09c"
   },
   "outputs": [
    {
     "data": {
      "text/plain": [
       "['ticket_type_nm', 'station_id', 'passenger_category', 'day_valid']"
      ]
     },
     "execution_count": 60,
     "metadata": {},
     "output_type": "execute_result"
    }
   ],
   "source": [
    "cat_cols = [col for col in X_full.columns if X_full[col].dtype=='category']\n",
    "cat_cols"
   ]
  },
  {
   "cell_type": "code",
   "execution_count": 61,
   "metadata": {
    "executionInfo": {
     "elapsed": 3,
     "status": "ok",
     "timestamp": 1669218454112,
     "user": {
      "displayName": "Andrew Lazko",
      "userId": "04969080350981822544"
     },
     "user_tz": -180
    },
    "id": "y9GZRc_wF7gF"
   },
   "outputs": [],
   "source": [
    "b_p =  {'loss_function': 'RMSE', 'l2_leaf_reg': 1.1861471510622876, 'bootstrap_type': 'Bernoulli',\n",
    "        'learning_rate': 0.07958600472584267, 'n_estimators': 1881, 'max_depth': 13, 'random_state': 11,\n",
    "        'min_data_in_leaf': 35, 'subsample': 0.9943290956143191, 'one_hot_max_size': 10, 'verbose': False,\n",
    "        'task_type': 'GPU', 'gpu_ram_part': 0.96, 'cat_features': cat_cols}"
   ]
  },
  {
   "cell_type": "code",
   "execution_count": 65,
   "metadata": {
    "colab": {
     "base_uri": "https://localhost:8080/"
    },
    "executionInfo": {
     "elapsed": 6,
     "status": "ok",
     "timestamp": 1669219196024,
     "user": {
      "displayName": "Andrew Lazko",
      "userId": "04969080350981822544"
     },
     "user_tz": -180
    },
    "id": "f7XlbzGDN3mz",
    "outputId": "99b5241d-fff5-4538-d9e9-ebdb1a315ec0"
   },
   "outputs": [
    {
     "data": {
      "text/plain": [
       "1567"
      ]
     },
     "execution_count": 65,
     "metadata": {},
     "output_type": "execute_result"
    }
   ],
   "source": [
    "gc.collect()"
   ]
  },
  {
   "cell_type": "code",
   "execution_count": 15,
   "metadata": {
    "executionInfo": {
     "elapsed": 946,
     "status": "ok",
     "timestamp": 1669310568740,
     "user": {
      "displayName": "Andrew Lazko",
      "userId": "04969080350981822544"
     },
     "user_tz": -180
    },
    "id": "9Jwh6JgWpwuN"
   },
   "outputs": [],
   "source": [
    "#немного бэггинга для тестовых данных"
   ]
  },
  {
   "cell_type": "code",
   "execution_count": 66,
   "metadata": {
    "colab": {
     "base_uri": "https://localhost:8080/"
    },
    "executionInfo": {
     "elapsed": 5632651,
     "status": "ok",
     "timestamp": 1669224846258,
     "user": {
      "displayName": "Andrew Lazko",
      "userId": "04969080350981822544"
     },
     "user_tz": -180
    },
    "id": "wyCNs1wcCms9",
    "outputId": "610f6c66-e8f7-49df-8a47-8487dd0545d5"
   },
   "outputs": [
    {
     "name": "stdout",
     "output_type": "stream",
     "text": [
      "fold: 1 ==> my_score: 0.6150363324665769\n",
      "fold: 2 ==> my_score: 0.6170516786889546\n",
      "fold: 3 ==> my_score: 0.6132692152639447\n",
      "fold: 4 ==> my_score: 0.6162607029863818\n",
      "fold: 5 ==> my_score: 0.6165071568994794\n",
      "fold: 6 ==> my_score: 0.6165772724551911\n",
      "fold: 7 ==> my_score: 0.6123438458676873\n",
      "fold: 8 ==> my_score: 0.616731217571882\n",
      "fold: 9 ==> my_score: 0.6139228400646609\n",
      "fold: 10 ==> my_score: 0.6119146920642947\n"
     ]
    }
   ],
   "source": [
    "y_test = np.zeros(X_test.shape[0])\n",
    "kf = KFold(n_splits=10, random_state=11, shuffle=True)\n",
    "myscore=[]   # list contains my_score for each fold\n",
    "n=0\n",
    "for trn_idx, test_idx in kf.split(X_full, y_r):\n",
    "    X_tr, X_val = X_full.iloc[trn_idx], X_full.iloc[test_idx]\n",
    "    y_tr, y_val = y_r.iloc[trn_idx], y_r.iloc[test_idx]\n",
    "    model = CatBoostRegressor(**b_p)\n",
    "    model.fit(X_tr, y_tr, eval_set=[(X_val, y_val)], early_stopping_rounds=99, verbose=False)\n",
    "    preds = model.predict(X_test)\n",
    "    y_test += preds / kf.n_splits\n",
    "    myscore.append(my_score_func_r(y_val, model.predict(X_val)))\n",
    "    print(f\"fold: {n+1} ==> my_score: {myscore[n]}\")\n",
    "    n+=1"
   ]
  },
  {
   "cell_type": "code",
   "execution_count": 67,
   "metadata": {
    "colab": {
     "base_uri": "https://localhost:8080/"
    },
    "executionInfo": {
     "elapsed": 5,
     "status": "ok",
     "timestamp": 1669224859435,
     "user": {
      "displayName": "Andrew Lazko",
      "userId": "04969080350981822544"
     },
     "user_tz": -180
    },
    "id": "3EXFDnzUje_M",
    "outputId": "04a4e63d-3121-4bd3-acb2-d16c01aaaa5a"
   },
   "outputs": [
    {
     "data": {
      "text/plain": [
       "array([663.24299752, 345.85813821, 541.67448084, ..., 150.17111047,\n",
       "       454.26289848, 501.7916504 ])"
      ]
     },
     "execution_count": 67,
     "metadata": {},
     "output_type": "execute_result"
    }
   ],
   "source": [
    "y_test"
   ]
  },
  {
   "cell_type": "code",
   "execution_count": 71,
   "metadata": {
    "colab": {
     "base_uri": "https://localhost:8080/",
     "height": 206
    },
    "executionInfo": {
     "elapsed": 1355,
     "status": "ok",
     "timestamp": 1669224945255,
     "user": {
      "displayName": "Andrew Lazko",
      "userId": "04969080350981822544"
     },
     "user_tz": -180
    },
    "id": "IBA8OZp1jhPS",
    "outputId": "6251671d-7ab7-4c98-dad1-362f291d7ab3"
   },
   "outputs": [
    {
     "data": {
      "text/html": [
       "\n",
       "  <div id=\"df-d6327efd-683d-4b45-9522-5903fe87e18f\">\n",
       "    <div class=\"colab-df-container\">\n",
       "      <div>\n",
       "<style scoped>\n",
       "    .dataframe tbody tr th:only-of-type {\n",
       "        vertical-align: middle;\n",
       "    }\n",
       "\n",
       "    .dataframe tbody tr th {\n",
       "        vertical-align: top;\n",
       "    }\n",
       "\n",
       "    .dataframe thead th {\n",
       "        text-align: right;\n",
       "    }\n",
       "</style>\n",
       "<table border=\"1\" class=\"dataframe\">\n",
       "  <thead>\n",
       "    <tr style=\"text-align: right;\">\n",
       "      <th></th>\n",
       "      <th>id</th>\n",
       "      <th>time_to_under</th>\n",
       "    </tr>\n",
       "  </thead>\n",
       "  <tbody>\n",
       "    <tr>\n",
       "      <th>0</th>\n",
       "      <td>1091022</td>\n",
       "      <td>663.242998</td>\n",
       "    </tr>\n",
       "    <tr>\n",
       "      <th>1</th>\n",
       "      <td>1091023</td>\n",
       "      <td>345.858138</td>\n",
       "    </tr>\n",
       "    <tr>\n",
       "      <th>2</th>\n",
       "      <td>1091024</td>\n",
       "      <td>541.674481</td>\n",
       "    </tr>\n",
       "    <tr>\n",
       "      <th>3</th>\n",
       "      <td>1091025</td>\n",
       "      <td>710.153393</td>\n",
       "    </tr>\n",
       "    <tr>\n",
       "      <th>4</th>\n",
       "      <td>1091026</td>\n",
       "      <td>623.774560</td>\n",
       "    </tr>\n",
       "  </tbody>\n",
       "</table>\n",
       "</div>\n",
       "      <button class=\"colab-df-convert\" onclick=\"convertToInteractive('df-d6327efd-683d-4b45-9522-5903fe87e18f')\"\n",
       "              title=\"Convert this dataframe to an interactive table.\"\n",
       "              style=\"display:none;\">\n",
       "        \n",
       "  <svg xmlns=\"http://www.w3.org/2000/svg\" height=\"24px\"viewBox=\"0 0 24 24\"\n",
       "       width=\"24px\">\n",
       "    <path d=\"M0 0h24v24H0V0z\" fill=\"none\"/>\n",
       "    <path d=\"M18.56 5.44l.94 2.06.94-2.06 2.06-.94-2.06-.94-.94-2.06-.94 2.06-2.06.94zm-11 1L8.5 8.5l.94-2.06 2.06-.94-2.06-.94L8.5 2.5l-.94 2.06-2.06.94zm10 10l.94 2.06.94-2.06 2.06-.94-2.06-.94-.94-2.06-.94 2.06-2.06.94z\"/><path d=\"M17.41 7.96l-1.37-1.37c-.4-.4-.92-.59-1.43-.59-.52 0-1.04.2-1.43.59L10.3 9.45l-7.72 7.72c-.78.78-.78 2.05 0 2.83L4 21.41c.39.39.9.59 1.41.59.51 0 1.02-.2 1.41-.59l7.78-7.78 2.81-2.81c.8-.78.8-2.07 0-2.86zM5.41 20L4 18.59l7.72-7.72 1.47 1.35L5.41 20z\"/>\n",
       "  </svg>\n",
       "      </button>\n",
       "      \n",
       "  <style>\n",
       "    .colab-df-container {\n",
       "      display:flex;\n",
       "      flex-wrap:wrap;\n",
       "      gap: 12px;\n",
       "    }\n",
       "\n",
       "    .colab-df-convert {\n",
       "      background-color: #E8F0FE;\n",
       "      border: none;\n",
       "      border-radius: 50%;\n",
       "      cursor: pointer;\n",
       "      display: none;\n",
       "      fill: #1967D2;\n",
       "      height: 32px;\n",
       "      padding: 0 0 0 0;\n",
       "      width: 32px;\n",
       "    }\n",
       "\n",
       "    .colab-df-convert:hover {\n",
       "      background-color: #E2EBFA;\n",
       "      box-shadow: 0px 1px 2px rgba(60, 64, 67, 0.3), 0px 1px 3px 1px rgba(60, 64, 67, 0.15);\n",
       "      fill: #174EA6;\n",
       "    }\n",
       "\n",
       "    [theme=dark] .colab-df-convert {\n",
       "      background-color: #3B4455;\n",
       "      fill: #D2E3FC;\n",
       "    }\n",
       "\n",
       "    [theme=dark] .colab-df-convert:hover {\n",
       "      background-color: #434B5C;\n",
       "      box-shadow: 0px 1px 3px 1px rgba(0, 0, 0, 0.15);\n",
       "      filter: drop-shadow(0px 1px 2px rgba(0, 0, 0, 0.3));\n",
       "      fill: #FFFFFF;\n",
       "    }\n",
       "  </style>\n",
       "\n",
       "      <script>\n",
       "        const buttonEl =\n",
       "          document.querySelector('#df-d6327efd-683d-4b45-9522-5903fe87e18f button.colab-df-convert');\n",
       "        buttonEl.style.display =\n",
       "          google.colab.kernel.accessAllowed ? 'block' : 'none';\n",
       "\n",
       "        async function convertToInteractive(key) {\n",
       "          const element = document.querySelector('#df-d6327efd-683d-4b45-9522-5903fe87e18f');\n",
       "          const dataTable =\n",
       "            await google.colab.kernel.invokeFunction('convertToInteractive',\n",
       "                                                     [key], {});\n",
       "          if (!dataTable) return;\n",
       "\n",
       "          const docLinkHtml = 'Like what you see? Visit the ' +\n",
       "            '<a target=\"_blank\" href=https://colab.research.google.com/notebooks/data_table.ipynb>data table notebook</a>'\n",
       "            + ' to learn more about interactive tables.';\n",
       "          element.innerHTML = '';\n",
       "          dataTable['output_type'] = 'display_data';\n",
       "          await google.colab.output.renderOutput(dataTable, element);\n",
       "          const docLink = document.createElement('div');\n",
       "          docLink.innerHTML = docLinkHtml;\n",
       "          element.appendChild(docLink);\n",
       "        }\n",
       "      </script>\n",
       "    </div>\n",
       "  </div>\n",
       "  "
      ],
      "text/plain": [
       "        id  time_to_under\n",
       "0  1091022     663.242998\n",
       "1  1091023     345.858138\n",
       "2  1091024     541.674481\n",
       "3  1091025     710.153393\n",
       "4  1091026     623.774560"
      ]
     },
     "metadata": {},
     "output_type": "display_data"
    }
   ],
   "source": [
    "solution_r = pd.DataFrame(y_test, index=X_test.index, columns=['time_to_under']).reset_index()\n",
    "\n",
    "#solution['label'] = y_test\n",
    "display(solution_r.head())\n",
    "\n",
    "#display(X_test.head())\n",
    "\n",
    "solution_r.to_csv(\"/content/drive/MyDrive/amur/amur_sol_3.csv\",sep=\",\", index=False, line_terminator='\\n')"
   ]
  },
  {
   "cell_type": "markdown",
   "metadata": {},
   "source": [
    "### Подбор классификации"
   ]
  },
  {
   "cell_type": "code",
   "execution_count": 25,
   "metadata": {
    "colab": {
     "base_uri": "https://localhost:8080/"
    },
    "executionInfo": {
     "elapsed": 2223,
     "status": "ok",
     "timestamp": 1669218599953,
     "user": {
      "displayName": "Andrew Lazko",
      "userId": "04969080350981822544"
     },
     "user_tz": -180
    },
    "id": "y21LCmekLlFE",
    "outputId": "784583a5-0771-468c-865d-bd75e1b80820"
   },
   "outputs": [
    {
     "name": "stdout",
     "output_type": "stream",
     "text": [
      "3.3.2\n"
     ]
    }
   ],
   "source": [
    "import lightgbm as lgbm\n",
    "print(lgbm.__version__)"
   ]
  },
  {
   "cell_type": "code",
   "execution_count": null,
   "metadata": {},
   "outputs": [],
   "source": [
    "def objective_lg(trial, X_train=X_train1, X_valid=X_valid1, y_train=y_train1, y_valid = y_valid1, cat_cols=cat_cols):\n",
    "\n",
    "    param_grid = {\n",
    "        #\"device_type\": 'gpu',\n",
    "        \"n_estimators\": trial.suggest_int(\"n_estimators\", 20, 3000, step=10),\n",
    "        \"learning_rate\": trial.suggest_float(\"learning_rate\", 0.01, 0.1),\n",
    "        'num_leaves': trial.suggest_int('num_leaves', 2, 512),\n",
    "        \"max_depth\": trial.suggest_int(\"max_depth\", 3, 12),\n",
    "        \"reg_alpha\": trial.suggest_int(\"lambda_l1\", 0, 10, step=1),\n",
    "        \"reg_lambda\": trial.suggest_int(\"lambda_l2\", 0, 10, step=1),\n",
    "        \"min_split_gain\": trial.suggest_float(\"min_gain_to_split\", 0, 15),\n",
    "        \"bagging_fraction\": trial.suggest_float(\n",
    "            \"bagging_fraction\", 0.1, 1, step=0.1\n",
    "        ),\n",
    "        'bagging_freq': trial.suggest_int('bagging_freq', 0, 15),\n",
    "        \"feature_fraction\": trial.suggest_float(\n",
    "            \"feature_fraction\", 0.1, 1, step=0.1\n",
    "        ),\n",
    "    }\n",
    "\n",
    "    model = lgbm.LGBMClassifier(objective='multiclass',  verbose=-1, random_state=11,\n",
    "                          device_type='gpu', class_weight='balanced', **param_grid)\n",
    "    model.fit(X_train, y_train, eval_set=[(X_valid, y_valid)], early_stopping_rounds=99,\n",
    "              verbose=-1, categorical_feature=cat_cols)\n",
    "              #callbacks=[LightGBMPruningCallback(trial, \"multi_logloss\")])\n",
    "    \n",
    "    preds = model.predict(X_valid)\n",
    "    score = my_score_func_c(y_valid, preds)\n",
    "    \n",
    "    return score #cross_val_score(model, X_train, y_train,cv=cv,scoring=my_scorer, verbose=False).mean()"
   ]
  },
  {
   "cell_type": "code",
   "execution_count": 50,
   "metadata": {
    "scrolled": false
   },
   "outputs": [
    {
     "name": "stderr",
     "output_type": "stream",
     "text": [
      "\u001b[32m[I 2022-11-23 21:59:22,414]\u001b[0m A new study created in memory with name: no-name-42d49aa0-2dfa-42ce-ac76-212391846f25\u001b[0m\n",
      "\u001b[32m[I 2022-11-24 00:13:29,749]\u001b[0m Trial 0 finished with value: 0.16802049835149138 and parameters: {'n_estimators': 460, 'learning_rate': 0.023246716919640822, 'num_leaves': 192, 'max_depth': 6, 'lambda_l1': 6, 'lambda_l2': 9, 'min_gain_to_split': 1.6408761567511831, 'bagging_fraction': 0.4, 'bagging_freq': 3, 'feature_fraction': 0.7000000000000001}. Best is trial 0 with value: 0.16802049835149138.\u001b[0m\n"
     ]
    },
    {
     "name": "stdout",
     "output_type": "stream",
     "text": [
      "[LightGBM] [Warning] feature_fraction is set=0.1, colsample_bytree=1.0 will be ignored. Current value: feature_fraction=0.1\n",
      "[LightGBM] [Warning] bagging_fraction is set=0.1, subsample=1.0 will be ignored. Current value: bagging_fraction=0.1\n",
      "[LightGBM] [Warning] bagging_freq is set=12, subsample_freq=0 will be ignored. Current value: bagging_freq=12\n"
     ]
    },
    {
     "name": "stderr",
     "output_type": "stream",
     "text": [
      "\u001b[32m[I 2022-11-24 01:48:43,956]\u001b[0m Trial 1 finished with value: 0.013933589901352454 and parameters: {'n_estimators': 2880, 'learning_rate': 0.04267890252374943, 'num_leaves': 273, 'max_depth': 8, 'lambda_l1': 7, 'lambda_l2': 6, 'min_gain_to_split': 2.7145172489190554, 'bagging_fraction': 0.1, 'bagging_freq': 12, 'feature_fraction': 0.1}. Best is trial 0 with value: 0.16802049835149138.\u001b[0m\n"
     ]
    },
    {
     "name": "stdout",
     "output_type": "stream",
     "text": [
      "[LightGBM] [Warning] feature_fraction is set=0.9, colsample_bytree=1.0 will be ignored. Current value: feature_fraction=0.9\n",
      "[LightGBM] [Warning] bagging_fraction is set=0.7000000000000001, subsample=1.0 will be ignored. Current value: bagging_fraction=0.7000000000000001\n",
      "[LightGBM] [Warning] bagging_freq is set=15, subsample_freq=0 will be ignored. Current value: bagging_freq=15\n"
     ]
    },
    {
     "name": "stderr",
     "output_type": "stream",
     "text": [
      "\u001b[32m[I 2022-11-24 04:45:54,243]\u001b[0m Trial 2 finished with value: 0.16297834109194925 and parameters: {'n_estimators': 1020, 'learning_rate': 0.07258445190435733, 'num_leaves': 310, 'max_depth': 4, 'lambda_l1': 9, 'lambda_l2': 1, 'min_gain_to_split': 4.63653712640277, 'bagging_fraction': 0.7000000000000001, 'bagging_freq': 15, 'feature_fraction': 0.9}. Best is trial 0 with value: 0.16802049835149138.\u001b[0m\n"
     ]
    },
    {
     "name": "stdout",
     "output_type": "stream",
     "text": [
      "[LightGBM] [Warning] feature_fraction is set=0.9, colsample_bytree=1.0 will be ignored. Current value: feature_fraction=0.9\n",
      "[LightGBM] [Warning] bagging_fraction is set=0.1, subsample=1.0 will be ignored. Current value: bagging_fraction=0.1\n",
      "[LightGBM] [Warning] bagging_freq is set=7, subsample_freq=0 will be ignored. Current value: bagging_freq=7\n"
     ]
    },
    {
     "name": "stderr",
     "output_type": "stream",
     "text": [
      "\u001b[32m[I 2022-11-24 05:28:05,946]\u001b[0m Trial 3 finished with value: 0.0199333573032675 and parameters: {'n_estimators': 1730, 'learning_rate': 0.03171646473637068, 'num_leaves': 433, 'max_depth': 5, 'lambda_l1': 7, 'lambda_l2': 6, 'min_gain_to_split': 12.127229382667814, 'bagging_fraction': 0.1, 'bagging_freq': 7, 'feature_fraction': 0.9}. Best is trial 0 with value: 0.16802049835149138.\u001b[0m\n"
     ]
    },
    {
     "name": "stdout",
     "output_type": "stream",
     "text": [
      "[LightGBM] [Warning] feature_fraction is set=1.0, colsample_bytree=1.0 will be ignored. Current value: feature_fraction=1.0\n",
      "[LightGBM] [Warning] bagging_fraction is set=0.4, subsample=1.0 will be ignored. Current value: bagging_fraction=0.4\n",
      "[LightGBM] [Warning] bagging_freq is set=14, subsample_freq=0 will be ignored. Current value: bagging_freq=14\n"
     ]
    },
    {
     "name": "stderr",
     "output_type": "stream",
     "text": [
      "\u001b[32m[I 2022-11-24 06:44:53,215]\u001b[0m Trial 4 finished with value: 0.177454974256329 and parameters: {'n_estimators': 300, 'learning_rate': 0.028654100203598633, 'num_leaves': 203, 'max_depth': 7, 'lambda_l1': 0, 'lambda_l2': 3, 'min_gain_to_split': 7.099420131976798, 'bagging_fraction': 0.4, 'bagging_freq': 14, 'feature_fraction': 1.0}. Best is trial 4 with value: 0.177454974256329.\u001b[0m\n"
     ]
    },
    {
     "name": "stdout",
     "output_type": "stream",
     "text": [
      "[LightGBM] [Warning] feature_fraction is set=0.9, colsample_bytree=1.0 will be ignored. Current value: feature_fraction=0.9\n",
      "[LightGBM] [Warning] bagging_fraction is set=1.0, subsample=1.0 will be ignored. Current value: bagging_fraction=1.0\n",
      "[LightGBM] [Warning] bagging_freq is set=6, subsample_freq=0 will be ignored. Current value: bagging_freq=6\n"
     ]
    },
    {
     "name": "stderr",
     "output_type": "stream",
     "text": [
      "\u001b[32m[I 2022-11-24 07:26:12,640]\u001b[0m Trial 5 finished with value: 0.11151165273221107 and parameters: {'n_estimators': 560, 'learning_rate': 0.04710383913188185, 'num_leaves': 475, 'max_depth': 4, 'lambda_l1': 1, 'lambda_l2': 5, 'min_gain_to_split': 12.7628082328099, 'bagging_fraction': 1.0, 'bagging_freq': 6, 'feature_fraction': 0.9}. Best is trial 4 with value: 0.177454974256329.\u001b[0m\n"
     ]
    },
    {
     "ename": "NameError",
     "evalue": "name 'study' is not defined",
     "output_type": "error",
     "traceback": [
      "\u001b[1;31m---------------------------------------------------------------------------\u001b[0m",
      "\u001b[1;31mNameError\u001b[0m                                 Traceback (most recent call last)",
      "Input \u001b[1;32mIn [50]\u001b[0m, in \u001b[0;36m<cell line: 3>\u001b[1;34m()\u001b[0m\n\u001b[0;32m      1\u001b[0m study_lg \u001b[38;5;241m=\u001b[39m optuna\u001b[38;5;241m.\u001b[39mcreate_study(direction\u001b[38;5;241m=\u001b[39m\u001b[38;5;124m'\u001b[39m\u001b[38;5;124mmaximize\u001b[39m\u001b[38;5;124m'\u001b[39m, pruner\u001b[38;5;241m=\u001b[39moptuna\u001b[38;5;241m.\u001b[39mpruners\u001b[38;5;241m.\u001b[39mMedianPruner(n_warmup_steps\u001b[38;5;241m=\u001b[39m\u001b[38;5;241m9\u001b[39m))\n\u001b[0;32m      2\u001b[0m study_lg\u001b[38;5;241m.\u001b[39moptimize(objective_lg, n_trials\u001b[38;5;241m=\u001b[39m\u001b[38;5;241m3333\u001b[39m, timeout\u001b[38;5;241m=\u001b[39m\u001b[38;5;241m32400\u001b[39m)\n\u001b[1;32m----> 3\u001b[0m \u001b[38;5;28mprint\u001b[39m(\u001b[38;5;124m'\u001b[39m\u001b[38;5;124mNumber of finished trials:\u001b[39m\u001b[38;5;124m'\u001b[39m, \u001b[38;5;28mlen\u001b[39m(\u001b[43mstudy\u001b[49m\u001b[38;5;241m.\u001b[39mtrials))\n\u001b[0;32m      4\u001b[0m \u001b[38;5;28mprint\u001b[39m(\u001b[38;5;124m'\u001b[39m\u001b[38;5;124mBest trial:\u001b[39m\u001b[38;5;124m'\u001b[39m, study\u001b[38;5;241m.\u001b[39mbest_trial\u001b[38;5;241m.\u001b[39mparams)\n\u001b[0;32m      5\u001b[0m study\u001b[38;5;241m.\u001b[39mbest_value\n",
      "\u001b[1;31mNameError\u001b[0m: name 'study' is not defined"
     ]
    }
   ],
   "source": [
    "study_lg = optuna.create_study(direction='maximize', pruner=optuna.pruners.MedianPruner(n_warmup_steps=9))\n",
    "study_lg.optimize(objective_lg, n_trials=3333, timeout=32400)\n",
    "print('Number of finished trials:', len(study_lg.trials))\n",
    "print('Best trial:', study_lg.best_trial.params)\n",
    "study_lg.best_value"
   ]
  },
  {
   "cell_type": "code",
   "execution_count": 52,
   "metadata": {
    "scrolled": false
   },
   "outputs": [
    {
     "name": "stdout",
     "output_type": "stream",
     "text": [
      "Number of finished trials: 6\n",
      "Best trial: {'n_estimators': 300, 'learning_rate': 0.028654100203598633, 'num_leaves': 203, 'max_depth': 7, 'lambda_l1': 0, 'lambda_l2': 3, 'min_gain_to_split': 7.099420131976798, 'bagging_fraction': 0.4, 'bagging_freq': 14, 'feature_fraction': 1.0}\n"
     ]
    },
    {
     "data": {
      "text/plain": [
       "0.177454974256329"
      ]
     },
     "execution_count": 52,
     "metadata": {},
     "output_type": "execute_result"
    }
   ],
   "source": [
    "print('Number of finished trials:', len(study_lg.trials))\n",
    "print('Best trial:', study_lg.best_trial.params)\n",
    "study_lg.best_value"
   ]
  },
  {
   "cell_type": "code",
   "execution_count": 54,
   "metadata": {},
   "outputs": [],
   "source": [
    "b_p = {'n_estimators': 300, 'learning_rate': 0.028654100203598633, 'num_leaves': 203, 'max_depth': 7, 'lambda_l1': 0, 'lambda_l2': 3,\n",
    "       'min_gain_to_split': 7.099420131976798, 'bagging_fraction': 0.4, 'bagging_freq': 14, 'feature_fraction': 1.0}"
   ]
  },
  {
   "cell_type": "code",
   "execution_count": 56,
   "metadata": {},
   "outputs": [],
   "source": [
    "model_best = lgbm.LGBMClassifier(objective='multiclass',  verbose=1, random_state=11,\n",
    "                          device_type='gpu', class_weight='balanced', **b_p)"
   ]
  },
  {
   "cell_type": "code",
   "execution_count": 57,
   "metadata": {},
   "outputs": [
    {
     "data": {
      "text/plain": [
       "<bound method LGBMModel.get_params of LGBMClassifier(bagging_fraction=0.4, bagging_freq=14, class_weight='balanced',\n",
       "               device_type='gpu', feature_fraction=1.0, lambda_l1=0,\n",
       "               lambda_l2=3, learning_rate=0.028654100203598633, max_depth=7,\n",
       "               min_gain_to_split=7.099420131976798, n_estimators=300,\n",
       "               num_leaves=203, objective='multiclass', random_state=11,\n",
       "               verbose=1)>"
      ]
     },
     "execution_count": 57,
     "metadata": {},
     "output_type": "execute_result"
    }
   ],
   "source": [
    "model_best.get_params"
   ]
  },
  {
   "cell_type": "code",
   "execution_count": 58,
   "metadata": {},
   "outputs": [
    {
     "data": {
      "text/plain": [
       "3906"
      ]
     },
     "execution_count": 58,
     "metadata": {},
     "output_type": "execute_result"
    }
   ],
   "source": [
    "gc.collect()"
   ]
  },
  {
   "cell_type": "code",
   "execution_count": 61,
   "metadata": {
    "executionInfo": {
     "elapsed": 4520,
     "status": "ok",
     "timestamp": 1669293330162,
     "user": {
      "displayName": "Andrey Andrey",
      "userId": "13754352393177000062"
     },
     "user_tz": -180
    },
    "id": "mRzhxXyidfQA"
   },
   "outputs": [],
   "source": [
    "df_test = pd.read_csv('X_test.csv', dtype=types_full, index_col='id')"
   ]
  },
  {
   "cell_type": "code",
   "execution_count": 62,
   "metadata": {
    "executionInfo": {
     "elapsed": 642,
     "status": "ok",
     "timestamp": 1669293333751,
     "user": {
      "displayName": "Andrey Andrey",
      "userId": "13754352393177000062"
     },
     "user_tz": -180
    },
    "id": "6Xtc80wTdfQC"
   },
   "outputs": [],
   "source": [
    "X_test = df_test.copy()"
   ]
  },
  {
   "cell_type": "code",
   "execution_count": 63,
   "metadata": {
    "colab": {
     "base_uri": "https://localhost:8080/",
     "height": 301
    },
    "executionInfo": {
     "elapsed": 7,
     "status": "ok",
     "timestamp": 1669293336311,
     "user": {
      "displayName": "Andrey Andrey",
      "userId": "13754352393177000062"
     },
     "user_tz": -180
    },
    "id": "AFo59DLRdfQC",
    "outputId": "02199aa8-7409-41ee-c123-874fcaa1cd19"
   },
   "outputs": [
    {
     "data": {
      "text/html": [
       "<div>\n",
       "<style scoped>\n",
       "    .dataframe tbody tr th:only-of-type {\n",
       "        vertical-align: middle;\n",
       "    }\n",
       "\n",
       "    .dataframe tbody tr th {\n",
       "        vertical-align: top;\n",
       "    }\n",
       "\n",
       "    .dataframe thead th {\n",
       "        text-align: right;\n",
       "    }\n",
       "</style>\n",
       "<table border=\"1\" class=\"dataframe\">\n",
       "  <thead>\n",
       "    <tr style=\"text-align: right;\">\n",
       "      <th></th>\n",
       "      <th>ticket_id</th>\n",
       "      <th>ticket_type_nm</th>\n",
       "      <th>station_id</th>\n",
       "      <th>passenger_category</th>\n",
       "      <th>day_valid</th>\n",
       "      <th>time_valid</th>\n",
       "      <th>count_of_trips</th>\n",
       "      <th>mean_time_valid</th>\n",
       "      <th>std_day_valid</th>\n",
       "      <th>std_time_valid</th>\n",
       "      <th>var_day_valid</th>\n",
       "      <th>var_time_valid</th>\n",
       "      <th>n_station_id</th>\n",
       "    </tr>\n",
       "    <tr>\n",
       "      <th>id</th>\n",
       "      <th></th>\n",
       "      <th></th>\n",
       "      <th></th>\n",
       "      <th></th>\n",
       "      <th></th>\n",
       "      <th></th>\n",
       "      <th></th>\n",
       "      <th></th>\n",
       "      <th></th>\n",
       "      <th></th>\n",
       "      <th></th>\n",
       "      <th></th>\n",
       "      <th></th>\n",
       "    </tr>\n",
       "  </thead>\n",
       "  <tbody>\n",
       "    <tr>\n",
       "      <th>1091022</th>\n",
       "      <td>425A13E16226CA01032043111488E0F5</td>\n",
       "      <td>wallet</td>\n",
       "      <td>2006</td>\n",
       "      <td>simple</td>\n",
       "      <td>0</td>\n",
       "      <td>18003</td>\n",
       "      <td>4</td>\n",
       "      <td>29203.750000</td>\n",
       "      <td>1.825742</td>\n",
       "      <td>8605.954697</td>\n",
       "      <td>3.333333</td>\n",
       "      <td>7.406246e+07</td>\n",
       "      <td>1</td>\n",
       "    </tr>\n",
       "    <tr>\n",
       "      <th>1091023</th>\n",
       "      <td>F94EDC107A4E054786882F9453C1B93F</td>\n",
       "      <td>facepay</td>\n",
       "      <td>3010</td>\n",
       "      <td>simple</td>\n",
       "      <td>0</td>\n",
       "      <td>18045</td>\n",
       "      <td>3</td>\n",
       "      <td>33967.000000</td>\n",
       "      <td>1.527525</td>\n",
       "      <td>23012.525698</td>\n",
       "      <td>2.333333</td>\n",
       "      <td>5.295763e+08</td>\n",
       "      <td>2</td>\n",
       "    </tr>\n",
       "    <tr>\n",
       "      <th>1091024</th>\n",
       "      <td>8F13BFBA98A7DD34B11BD2DDCC5CA68E</td>\n",
       "      <td>student_30</td>\n",
       "      <td>2006</td>\n",
       "      <td>students</td>\n",
       "      <td>0</td>\n",
       "      <td>18052</td>\n",
       "      <td>6</td>\n",
       "      <td>39320.166667</td>\n",
       "      <td>2.160247</td>\n",
       "      <td>14828.942018</td>\n",
       "      <td>4.666667</td>\n",
       "      <td>2.198975e+08</td>\n",
       "      <td>1</td>\n",
       "    </tr>\n",
       "    <tr>\n",
       "      <th>1091025</th>\n",
       "      <td>7B98691636EC418ABF6FEDDE4D7C68FC</td>\n",
       "      <td>wallet</td>\n",
       "      <td>2018</td>\n",
       "      <td>simple</td>\n",
       "      <td>0</td>\n",
       "      <td>18058</td>\n",
       "      <td>3</td>\n",
       "      <td>36184.333333</td>\n",
       "      <td>2.516611</td>\n",
       "      <td>22732.768778</td>\n",
       "      <td>6.333333</td>\n",
       "      <td>5.167788e+08</td>\n",
       "      <td>2</td>\n",
       "    </tr>\n",
       "    <tr>\n",
       "      <th>1091026</th>\n",
       "      <td>679C55C28CB36FB546FD104502C0B3DB</td>\n",
       "      <td>wallet</td>\n",
       "      <td>2006</td>\n",
       "      <td>simple</td>\n",
       "      <td>0</td>\n",
       "      <td>18099</td>\n",
       "      <td>2</td>\n",
       "      <td>29273.000000</td>\n",
       "      <td>0.707107</td>\n",
       "      <td>15802.422346</td>\n",
       "      <td>0.500000</td>\n",
       "      <td>2.497166e+08</td>\n",
       "      <td>1</td>\n",
       "    </tr>\n",
       "  </tbody>\n",
       "</table>\n",
       "</div>"
      ],
      "text/plain": [
       "                                ticket_id ticket_type_nm station_id  \\\n",
       "id                                                                    \n",
       "1091022  425A13E16226CA01032043111488E0F5         wallet       2006   \n",
       "1091023  F94EDC107A4E054786882F9453C1B93F        facepay       3010   \n",
       "1091024  8F13BFBA98A7DD34B11BD2DDCC5CA68E     student_30       2006   \n",
       "1091025  7B98691636EC418ABF6FEDDE4D7C68FC         wallet       2018   \n",
       "1091026  679C55C28CB36FB546FD104502C0B3DB         wallet       2006   \n",
       "\n",
       "        passenger_category day_valid  time_valid  count_of_trips  \\\n",
       "id                                                                 \n",
       "1091022             simple         0       18003               4   \n",
       "1091023             simple         0       18045               3   \n",
       "1091024           students         0       18052               6   \n",
       "1091025             simple         0       18058               3   \n",
       "1091026             simple         0       18099               2   \n",
       "\n",
       "         mean_time_valid  std_day_valid  std_time_valid  var_day_valid  \\\n",
       "id                                                                       \n",
       "1091022     29203.750000       1.825742     8605.954697       3.333333   \n",
       "1091023     33967.000000       1.527525    23012.525698       2.333333   \n",
       "1091024     39320.166667       2.160247    14828.942018       4.666667   \n",
       "1091025     36184.333333       2.516611    22732.768778       6.333333   \n",
       "1091026     29273.000000       0.707107    15802.422346       0.500000   \n",
       "\n",
       "         var_time_valid  n_station_id  \n",
       "id                                     \n",
       "1091022    7.406246e+07             1  \n",
       "1091023    5.295763e+08             2  \n",
       "1091024    2.198975e+08             1  \n",
       "1091025    5.167788e+08             2  \n",
       "1091026    2.497166e+08             1  "
      ]
     },
     "execution_count": 63,
     "metadata": {},
     "output_type": "execute_result"
    }
   ],
   "source": [
    "X_test.head()"
   ]
  },
  {
   "cell_type": "code",
   "execution_count": 64,
   "metadata": {
    "executionInfo": {
     "elapsed": 4,
     "status": "ok",
     "timestamp": 1669293338946,
     "user": {
      "displayName": "Andrey Andrey",
      "userId": "13754352393177000062"
     },
     "user_tz": -180
    },
    "id": "lwBB-geldfQC"
   },
   "outputs": [],
   "source": [
    "X_test.drop('ticket_id', axis=1, inplace=True)"
   ]
  },
  {
   "cell_type": "code",
   "execution_count": 65,
   "metadata": {
    "colab": {
     "base_uri": "https://localhost:8080/"
    },
    "executionInfo": {
     "elapsed": 1089,
     "status": "ok",
     "timestamp": 1669293342612,
     "user": {
      "displayName": "Andrey Andrey",
      "userId": "13754352393177000062"
     },
     "user_tz": -180
    },
    "id": "TEr4A2XBdfQD",
    "outputId": "73d2efd9-5770-4e28-9bb9-12d463a6b52c",
    "scrolled": true
   },
   "outputs": [
    {
     "name": "stdout",
     "output_type": "stream",
     "text": [
      "<class 'pandas.core.frame.DataFrame'>\n",
      "Int64Index: 561890 entries, 1091022 to 1652911\n",
      "Data columns (total 12 columns):\n",
      " #   Column              Non-Null Count   Dtype   \n",
      "---  ------              --------------   -----   \n",
      " 0   ticket_type_nm      561890 non-null  category\n",
      " 1   station_id          561890 non-null  category\n",
      " 2   passenger_category  561890 non-null  category\n",
      " 3   day_valid           561890 non-null  category\n",
      " 4   time_valid          561890 non-null  int64   \n",
      " 5   count_of_trips      561890 non-null  int64   \n",
      " 6   mean_time_valid     561890 non-null  float64 \n",
      " 7   std_day_valid       561890 non-null  float64 \n",
      " 8   std_time_valid      561890 non-null  float64 \n",
      " 9   var_day_valid       561890 non-null  float64 \n",
      " 10  var_time_valid      561890 non-null  float64 \n",
      " 11  n_station_id        561890 non-null  int64   \n",
      "dtypes: category(4), float64(5), int64(3)\n",
      "memory usage: 41.3 MB\n"
     ]
    }
   ],
   "source": [
    "X_test.info()"
   ]
  },
  {
   "cell_type": "code",
   "execution_count": null,
   "metadata": {
    "scrolled": false
   },
   "outputs": [],
   "source": [
    "model_best.fit(X_full, y_c)"
   ]
  },
  {
   "cell_type": "code",
   "execution_count": 72,
   "metadata": {},
   "outputs": [
    {
     "data": {
      "text/plain": [
       "<AxesSubplot:title={'center':'Feature importance'}, xlabel='Feature importance', ylabel='Features'>"
      ]
     },
     "execution_count": 72,
     "metadata": {},
     "output_type": "execute_result"
    },
    {
     "data": {
      "image/png": "[encoded data removed]",
      "text/plain": [
       "<Figure size 432x288 with 1 Axes>"
      ]
     },
     "metadata": {
      "needs_background": "light"
     },
     "output_type": "display_data"
    }
   ],
   "source": [
    "lgbm.plot_importance(model_best)"
   ]
  },
  {
   "cell_type": "code",
   "execution_count": 73,
   "metadata": {},
   "outputs": [
    {
     "data": {
      "text/plain": [
       "0"
      ]
     },
     "execution_count": 73,
     "metadata": {},
     "output_type": "execute_result"
    }
   ],
   "source": [
    "gc.collect()"
   ]
  },
  {
   "cell_type": "code",
   "execution_count": 74,
   "metadata": {
    "id": "N7K6cbfpdfQD"
   },
   "outputs": [
    {
     "name": "stdout",
     "output_type": "stream",
     "text": [
      "CPU times: total: 3h 32min 25s\n",
      "Wall time: 55min 13s\n"
     ]
    }
   ],
   "source": [
    "%%time\n",
    "y_test_c = model_best.predict(X_test)"
   ]
  },
  {
   "cell_type": "code",
   "execution_count": 75,
   "metadata": {
    "id": "q1T-5OhV0ZVO"
   },
   "outputs": [
    {
     "data": {
      "text/plain": [
       "11145.981636975208"
      ]
     },
     "execution_count": 75,
     "metadata": {},
     "output_type": "execute_result"
    }
   ],
   "source": [
    "y_test_c.mean()"
   ]
  },
  {
   "cell_type": "code",
   "execution_count": 76,
   "metadata": {
    "id": "obywGCXUDwJF"
   },
   "outputs": [
    {
     "data": {
      "text/html": [
       "<div>\n",
       "<style scoped>\n",
       "    .dataframe tbody tr th:only-of-type {\n",
       "        vertical-align: middle;\n",
       "    }\n",
       "\n",
       "    .dataframe tbody tr th {\n",
       "        vertical-align: top;\n",
       "    }\n",
       "\n",
       "    .dataframe thead th {\n",
       "        text-align: right;\n",
       "    }\n",
       "</style>\n",
       "<table border=\"1\" class=\"dataframe\">\n",
       "  <thead>\n",
       "    <tr style=\"text-align: right;\">\n",
       "      <th></th>\n",
       "      <th>id</th>\n",
       "      <th>label</th>\n",
       "    </tr>\n",
       "  </thead>\n",
       "  <tbody>\n",
       "    <tr>\n",
       "      <th>0</th>\n",
       "      <td>1091022</td>\n",
       "      <td>2024</td>\n",
       "    </tr>\n",
       "    <tr>\n",
       "      <th>1</th>\n",
       "      <td>1091023</td>\n",
       "      <td>3003</td>\n",
       "    </tr>\n",
       "    <tr>\n",
       "      <th>2</th>\n",
       "      <td>1091024</td>\n",
       "      <td>2022</td>\n",
       "    </tr>\n",
       "    <tr>\n",
       "      <th>3</th>\n",
       "      <td>1091025</td>\n",
       "      <td>2022</td>\n",
       "    </tr>\n",
       "    <tr>\n",
       "      <th>4</th>\n",
       "      <td>1091026</td>\n",
       "      <td>2024</td>\n",
       "    </tr>\n",
       "  </tbody>\n",
       "</table>\n",
       "</div>"
      ],
      "text/plain": [
       "        id  label\n",
       "0  1091022   2024\n",
       "1  1091023   3003\n",
       "2  1091024   2022\n",
       "3  1091025   2022\n",
       "4  1091026   2024"
      ]
     },
     "metadata": {},
     "output_type": "display_data"
    }
   ],
   "source": [
    "solution_c = pd.DataFrame(y_test_c, index=X_test.index, columns=['label']).reset_index()\n",
    "\n",
    "display(solution_c.head())\n",
    "\n",
    "\n",
    "solution_c.to_csv(\"amur_sol_c2411_2.csv\",sep=\",\", index=False, line_terminator='\\n')"
   ]
  },
  {
   "cell_type": "markdown",
   "metadata": {
    "id": "a91ST3fGf4F8"
   },
   "source": [
    "## ФИНАЛЬНОЕ ПРЕДСКАЗАНИЕ"
   ]
  },
  {
   "cell_type": "code",
   "execution_count": 5,
   "metadata": {
    "executionInfo": {
     "elapsed": 990,
     "status": "ok",
     "timestamp": 1669307815806,
     "user": {
      "displayName": "Andrew Lazko",
      "userId": "04969080350981822544"
     },
     "user_tz": -180
    },
    "id": "Qwwkszqffcmn"
   },
   "outputs": [],
   "source": [
    "s_r = pd.read_csv(\"/content/drive/MyDrive/amur/amur_sol_3.csv\")"
   ]
  },
  {
   "cell_type": "code",
   "execution_count": 6,
   "metadata": {
    "colab": {
     "base_uri": "https://localhost:8080/",
     "height": 206
    },
    "executionInfo": {
     "elapsed": 392,
     "status": "ok",
     "timestamp": 1669307829590,
     "user": {
      "displayName": "Andrew Lazko",
      "userId": "04969080350981822544"
     },
     "user_tz": -180
    },
    "id": "0uKRRFgFf-CD",
    "outputId": "7bf25ec4-488f-4188-c6dc-1c4b37623576",
    "scrolled": true
   },
   "outputs": [
    {
     "data": {
      "text/html": [
       "\n",
       "  <div id=\"df-0afbe9ae-46c3-4898-a0f7-b7459c131803\">\n",
       "    <div class=\"colab-df-container\">\n",
       "      <div>\n",
       "<style scoped>\n",
       "    .dataframe tbody tr th:only-of-type {\n",
       "        vertical-align: middle;\n",
       "    }\n",
       "\n",
       "    .dataframe tbody tr th {\n",
       "        vertical-align: top;\n",
       "    }\n",
       "\n",
       "    .dataframe thead th {\n",
       "        text-align: right;\n",
       "    }\n",
       "</style>\n",
       "<table border=\"1\" class=\"dataframe\">\n",
       "  <thead>\n",
       "    <tr style=\"text-align: right;\">\n",
       "      <th></th>\n",
       "      <th>id</th>\n",
       "      <th>time_to_under</th>\n",
       "    </tr>\n",
       "  </thead>\n",
       "  <tbody>\n",
       "    <tr>\n",
       "      <th>0</th>\n",
       "      <td>1091022</td>\n",
       "      <td>663.242998</td>\n",
       "    </tr>\n",
       "    <tr>\n",
       "      <th>1</th>\n",
       "      <td>1091023</td>\n",
       "      <td>345.858138</td>\n",
       "    </tr>\n",
       "    <tr>\n",
       "      <th>2</th>\n",
       "      <td>1091024</td>\n",
       "      <td>541.674481</td>\n",
       "    </tr>\n",
       "    <tr>\n",
       "      <th>3</th>\n",
       "      <td>1091025</td>\n",
       "      <td>710.153393</td>\n",
       "    </tr>\n",
       "    <tr>\n",
       "      <th>4</th>\n",
       "      <td>1091026</td>\n",
       "      <td>623.774560</td>\n",
       "    </tr>\n",
       "  </tbody>\n",
       "</table>\n",
       "</div>\n",
       "      <button class=\"colab-df-convert\" onclick=\"convertToInteractive('df-0afbe9ae-46c3-4898-a0f7-b7459c131803')\"\n",
       "              title=\"Convert this dataframe to an interactive table.\"\n",
       "              style=\"display:none;\">\n",
       "        \n",
       "  <svg xmlns=\"http://www.w3.org/2000/svg\" height=\"24px\"viewBox=\"0 0 24 24\"\n",
       "       width=\"24px\">\n",
       "    <path d=\"M0 0h24v24H0V0z\" fill=\"none\"/>\n",
       "    <path d=\"M18.56 5.44l.94 2.06.94-2.06 2.06-.94-2.06-.94-.94-2.06-.94 2.06-2.06.94zm-11 1L8.5 8.5l.94-2.06 2.06-.94-2.06-.94L8.5 2.5l-.94 2.06-2.06.94zm10 10l.94 2.06.94-2.06 2.06-.94-2.06-.94-.94-2.06-.94 2.06-2.06.94z\"/><path d=\"M17.41 7.96l-1.37-1.37c-.4-.4-.92-.59-1.43-.59-.52 0-1.04.2-1.43.59L10.3 9.45l-7.72 7.72c-.78.78-.78 2.05 0 2.83L4 21.41c.39.39.9.59 1.41.59.51 0 1.02-.2 1.41-.59l7.78-7.78 2.81-2.81c.8-.78.8-2.07 0-2.86zM5.41 20L4 18.59l7.72-7.72 1.47 1.35L5.41 20z\"/>\n",
       "  </svg>\n",
       "      </button>\n",
       "      \n",
       "  <style>\n",
       "    .colab-df-container {\n",
       "      display:flex;\n",
       "      flex-wrap:wrap;\n",
       "      gap: 12px;\n",
       "    }\n",
       "\n",
       "    .colab-df-convert {\n",
       "      background-color: #E8F0FE;\n",
       "      border: none;\n",
       "      border-radius: 50%;\n",
       "      cursor: pointer;\n",
       "      display: none;\n",
       "      fill: #1967D2;\n",
       "      height: 32px;\n",
       "      padding: 0 0 0 0;\n",
       "      width: 32px;\n",
       "    }\n",
       "\n",
       "    .colab-df-convert:hover {\n",
       "      background-color: #E2EBFA;\n",
       "      box-shadow: 0px 1px 2px rgba(60, 64, 67, 0.3), 0px 1px 3px 1px rgba(60, 64, 67, 0.15);\n",
       "      fill: #174EA6;\n",
       "    }\n",
       "\n",
       "    [theme=dark] .colab-df-convert {\n",
       "      background-color: #3B4455;\n",
       "      fill: #D2E3FC;\n",
       "    }\n",
       "\n",
       "    [theme=dark] .colab-df-convert:hover {\n",
       "      background-color: #434B5C;\n",
       "      box-shadow: 0px 1px 3px 1px rgba(0, 0, 0, 0.15);\n",
       "      filter: drop-shadow(0px 1px 2px rgba(0, 0, 0, 0.3));\n",
       "      fill: #FFFFFF;\n",
       "    }\n",
       "  </style>\n",
       "\n",
       "      <script>\n",
       "        const buttonEl =\n",
       "          document.querySelector('#df-0afbe9ae-46c3-4898-a0f7-b7459c131803 button.colab-df-convert');\n",
       "        buttonEl.style.display =\n",
       "          google.colab.kernel.accessAllowed ? 'block' : 'none';\n",
       "\n",
       "        async function convertToInteractive(key) {\n",
       "          const element = document.querySelector('#df-0afbe9ae-46c3-4898-a0f7-b7459c131803');\n",
       "          const dataTable =\n",
       "            await google.colab.kernel.invokeFunction('convertToInteractive',\n",
       "                                                     [key], {});\n",
       "          if (!dataTable) return;\n",
       "\n",
       "          const docLinkHtml = 'Like what you see? Visit the ' +\n",
       "            '<a target=\"_blank\" href=https://colab.research.google.com/notebooks/data_table.ipynb>data table notebook</a>'\n",
       "            + ' to learn more about interactive tables.';\n",
       "          element.innerHTML = '';\n",
       "          dataTable['output_type'] = 'display_data';\n",
       "          await google.colab.output.renderOutput(dataTable, element);\n",
       "          const docLink = document.createElement('div');\n",
       "          docLink.innerHTML = docLinkHtml;\n",
       "          element.appendChild(docLink);\n",
       "        }\n",
       "      </script>\n",
       "    </div>\n",
       "  </div>\n",
       "  "
      ],
      "text/plain": [
       "        id  time_to_under\n",
       "0  1091022     663.242998\n",
       "1  1091023     345.858138\n",
       "2  1091024     541.674481\n",
       "3  1091025     710.153393\n",
       "4  1091026     623.774560"
      ]
     },
     "execution_count": 6,
     "metadata": {},
     "output_type": "execute_result"
    }
   ],
   "source": [
    "s_r.head()"
   ]
  },
  {
   "cell_type": "code",
   "execution_count": 20,
   "metadata": {
    "executionInfo": {
     "elapsed": 1124,
     "status": "ok",
     "timestamp": 1669316422493,
     "user": {
      "displayName": "Andrew Lazko",
      "userId": "04969080350981822544"
     },
     "user_tz": -180
    },
    "id": "Ssd9VS5U82Tt"
   },
   "outputs": [],
   "source": [
    "s_c2 = pd.read_csv(\"/content/drive/MyDrive/amur/amur_sol_c2411_2.csv\")"
   ]
  },
  {
   "cell_type": "code",
   "execution_count": 21,
   "metadata": {
    "executionInfo": {
     "elapsed": 302,
     "status": "ok",
     "timestamp": 1669316447160,
     "user": {
      "displayName": "Andrew Lazko",
      "userId": "04969080350981822544"
     },
     "user_tz": -180
    },
    "id": "a-_ExDQvA2ur"
   },
   "outputs": [],
   "source": [
    "s_r['label'] = s_c2['label'] "
   ]
  },
  {
   "cell_type": "code",
   "execution_count": 27,
   "metadata": {
    "colab": {
     "base_uri": "https://localhost:8080/",
     "height": 363
    },
    "executionInfo": {
     "elapsed": 309,
     "status": "ok",
     "timestamp": 1669316714034,
     "user": {
      "displayName": "Andrew Lazko",
      "userId": "04969080350981822544"
     },
     "user_tz": -180
    },
    "id": "6sWwbyfWA5P_",
    "outputId": "d8116323-a51a-4290-80fd-988b6559f10b"
   },
   "outputs": [
    {
     "data": {
      "text/html": [
       "\n",
       "  <div id=\"df-e2e771ab-a588-4976-86da-577055b1fd0f\">\n",
       "    <div class=\"colab-df-container\">\n",
       "      <div>\n",
       "<style scoped>\n",
       "    .dataframe tbody tr th:only-of-type {\n",
       "        vertical-align: middle;\n",
       "    }\n",
       "\n",
       "    .dataframe tbody tr th {\n",
       "        vertical-align: top;\n",
       "    }\n",
       "\n",
       "    .dataframe thead th {\n",
       "        text-align: right;\n",
       "    }\n",
       "</style>\n",
       "<table border=\"1\" class=\"dataframe\">\n",
       "  <thead>\n",
       "    <tr style=\"text-align: right;\">\n",
       "      <th></th>\n",
       "      <th>id</th>\n",
       "      <th>time_to_under</th>\n",
       "      <th>label</th>\n",
       "    </tr>\n",
       "  </thead>\n",
       "  <tbody>\n",
       "    <tr>\n",
       "      <th>0</th>\n",
       "      <td>1091022</td>\n",
       "      <td>663.242998</td>\n",
       "      <td>2024</td>\n",
       "    </tr>\n",
       "    <tr>\n",
       "      <th>1</th>\n",
       "      <td>1091023</td>\n",
       "      <td>345.858138</td>\n",
       "      <td>3003</td>\n",
       "    </tr>\n",
       "    <tr>\n",
       "      <th>2</th>\n",
       "      <td>1091024</td>\n",
       "      <td>541.674481</td>\n",
       "      <td>2022</td>\n",
       "    </tr>\n",
       "    <tr>\n",
       "      <th>3</th>\n",
       "      <td>1091025</td>\n",
       "      <td>710.153393</td>\n",
       "      <td>2022</td>\n",
       "    </tr>\n",
       "    <tr>\n",
       "      <th>4</th>\n",
       "      <td>1091026</td>\n",
       "      <td>623.774560</td>\n",
       "      <td>2024</td>\n",
       "    </tr>\n",
       "    <tr>\n",
       "      <th>5</th>\n",
       "      <td>1091027</td>\n",
       "      <td>287.523221</td>\n",
       "      <td>9023</td>\n",
       "    </tr>\n",
       "    <tr>\n",
       "      <th>6</th>\n",
       "      <td>1091028</td>\n",
       "      <td>611.463852</td>\n",
       "      <td>2017</td>\n",
       "    </tr>\n",
       "    <tr>\n",
       "      <th>7</th>\n",
       "      <td>1091029</td>\n",
       "      <td>112.151689</td>\n",
       "      <td>9006</td>\n",
       "    </tr>\n",
       "    <tr>\n",
       "      <th>8</th>\n",
       "      <td>1091030</td>\n",
       "      <td>122.594515</td>\n",
       "      <td>81015</td>\n",
       "    </tr>\n",
       "    <tr>\n",
       "      <th>9</th>\n",
       "      <td>1091031</td>\n",
       "      <td>679.170561</td>\n",
       "      <td>2022</td>\n",
       "    </tr>\n",
       "  </tbody>\n",
       "</table>\n",
       "</div>\n",
       "      <button class=\"colab-df-convert\" onclick=\"convertToInteractive('df-e2e771ab-a588-4976-86da-577055b1fd0f')\"\n",
       "              title=\"Convert this dataframe to an interactive table.\"\n",
       "              style=\"display:none;\">\n",
       "        \n",
       "  <svg xmlns=\"http://www.w3.org/2000/svg\" height=\"24px\"viewBox=\"0 0 24 24\"\n",
       "       width=\"24px\">\n",
       "    <path d=\"M0 0h24v24H0V0z\" fill=\"none\"/>\n",
       "    <path d=\"M18.56 5.44l.94 2.06.94-2.06 2.06-.94-2.06-.94-.94-2.06-.94 2.06-2.06.94zm-11 1L8.5 8.5l.94-2.06 2.06-.94-2.06-.94L8.5 2.5l-.94 2.06-2.06.94zm10 10l.94 2.06.94-2.06 2.06-.94-2.06-.94-.94-2.06-.94 2.06-2.06.94z\"/><path d=\"M17.41 7.96l-1.37-1.37c-.4-.4-.92-.59-1.43-.59-.52 0-1.04.2-1.43.59L10.3 9.45l-7.72 7.72c-.78.78-.78 2.05 0 2.83L4 21.41c.39.39.9.59 1.41.59.51 0 1.02-.2 1.41-.59l7.78-7.78 2.81-2.81c.8-.78.8-2.07 0-2.86zM5.41 20L4 18.59l7.72-7.72 1.47 1.35L5.41 20z\"/>\n",
       "  </svg>\n",
       "      </button>\n",
       "      \n",
       "  <style>\n",
       "    .colab-df-container {\n",
       "      display:flex;\n",
       "      flex-wrap:wrap;\n",
       "      gap: 12px;\n",
       "    }\n",
       "\n",
       "    .colab-df-convert {\n",
       "      background-color: #E8F0FE;\n",
       "      border: none;\n",
       "      border-radius: 50%;\n",
       "      cursor: pointer;\n",
       "      display: none;\n",
       "      fill: #1967D2;\n",
       "      height: 32px;\n",
       "      padding: 0 0 0 0;\n",
       "      width: 32px;\n",
       "    }\n",
       "\n",
       "    .colab-df-convert:hover {\n",
       "      background-color: #E2EBFA;\n",
       "      box-shadow: 0px 1px 2px rgba(60, 64, 67, 0.3), 0px 1px 3px 1px rgba(60, 64, 67, 0.15);\n",
       "      fill: #174EA6;\n",
       "    }\n",
       "\n",
       "    [theme=dark] .colab-df-convert {\n",
       "      background-color: #3B4455;\n",
       "      fill: #D2E3FC;\n",
       "    }\n",
       "\n",
       "    [theme=dark] .colab-df-convert:hover {\n",
       "      background-color: #434B5C;\n",
       "      box-shadow: 0px 1px 3px 1px rgba(0, 0, 0, 0.15);\n",
       "      filter: drop-shadow(0px 1px 2px rgba(0, 0, 0, 0.3));\n",
       "      fill: #FFFFFF;\n",
       "    }\n",
       "  </style>\n",
       "\n",
       "      <script>\n",
       "        const buttonEl =\n",
       "          document.querySelector('#df-e2e771ab-a588-4976-86da-577055b1fd0f button.colab-df-convert');\n",
       "        buttonEl.style.display =\n",
       "          google.colab.kernel.accessAllowed ? 'block' : 'none';\n",
       "\n",
       "        async function convertToInteractive(key) {\n",
       "          const element = document.querySelector('#df-e2e771ab-a588-4976-86da-577055b1fd0f');\n",
       "          const dataTable =\n",
       "            await google.colab.kernel.invokeFunction('convertToInteractive',\n",
       "                                                     [key], {});\n",
       "          if (!dataTable) return;\n",
       "\n",
       "          const docLinkHtml = 'Like what you see? Visit the ' +\n",
       "            '<a target=\"_blank\" href=https://colab.research.google.com/notebooks/data_table.ipynb>data table notebook</a>'\n",
       "            + ' to learn more about interactive tables.';\n",
       "          element.innerHTML = '';\n",
       "          dataTable['output_type'] = 'display_data';\n",
       "          await google.colab.output.renderOutput(dataTable, element);\n",
       "          const docLink = document.createElement('div');\n",
       "          docLink.innerHTML = docLinkHtml;\n",
       "          element.appendChild(docLink);\n",
       "        }\n",
       "      </script>\n",
       "    </div>\n",
       "  </div>\n",
       "  "
      ],
      "text/plain": [
       "        id  time_to_under  label\n",
       "0  1091022     663.242998   2024\n",
       "1  1091023     345.858138   3003\n",
       "2  1091024     541.674481   2022\n",
       "3  1091025     710.153393   2022\n",
       "4  1091026     623.774560   2024\n",
       "5  1091027     287.523221   9023\n",
       "6  1091028     611.463852   2017\n",
       "7  1091029     112.151689   9006\n",
       "8  1091030     122.594515  81015\n",
       "9  1091031     679.170561   2022"
      ]
     },
     "execution_count": 27,
     "metadata": {},
     "output_type": "execute_result"
    }
   ],
   "source": [
    "s_r.head(10)"
   ]
  },
  {
   "cell_type": "code",
   "execution_count": 26,
   "metadata": {
    "executionInfo": {
     "elapsed": 1711,
     "status": "ok",
     "timestamp": 1669316561852,
     "user": {
      "displayName": "Andrew Lazko",
      "userId": "04969080350981822544"
     },
     "user_tz": -180
    },
    "id": "J6px9iymBRP8"
   },
   "outputs": [],
   "source": [
    "s_r.to_csv(\"/content/drive/MyDrive/amur/amur_final_colution2.csv\",sep=\",\", index=False, line_terminator='\\n')"
   ]
  },
  {
   "cell_type": "markdown",
   "metadata": {},
   "source": [
    "0.323 на паблике"
   ]
  },
  {
   "cell_type": "code",
   "execution_count": null,
   "metadata": {},
   "outputs": [],
   "source": []
  }
 ],
 "metadata": {
  "accelerator": "GPU",
  "colab": {
   "provenance": []
  },
  "gpuClass": "standard",
  "kernelspec": {
   "display_name": "Python 3",
   "language": "python",
   "name": "python3"
  },
  "language_info": {
   "codemirror_mode": {
    "name": "ipython",
    "version": 3
   },
   "file_extension": ".py",
   "mimetype": "text/x-python",
   "name": "python",
   "nbconvert_exporter": "python",
   "pygments_lexer": "ipython3",
   "version": "3.8.5"
  },
  "toc": {
   "base_numbering": 1,
   "nav_menu": {},
   "number_sections": true,
   "sideBar": true,
   "skip_h1_title": true,
   "title_cell": "Table of Contents",
   "title_sidebar": "Contents",
   "toc_cell": true,
   "toc_position": {},
   "toc_section_display": true,
   "toc_window_display": false
  }
 },
 "nbformat": 4,
 "nbformat_minor": 1
}
